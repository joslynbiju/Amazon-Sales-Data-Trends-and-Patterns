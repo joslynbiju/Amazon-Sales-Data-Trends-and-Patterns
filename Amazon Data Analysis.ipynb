{
  "nbformat": 4,
  "nbformat_minor": 0,
  "metadata": {
    "colab": {
      "provenance": []
    },
    "kernelspec": {
      "name": "python3",
      "display_name": "Python 3"
    },
    "language_info": {
      "name": "python"
    }
  },
  "cells": [
    {
      "cell_type": "markdown",
      "source": [
        "#Amazon Data Analysis"
      ],
      "metadata": {
        "id": "foTOE5UP0Lxz"
      }
    },
    {
      "cell_type": "markdown",
      "source": [
        "This analysis focuses on exploring and evaluating Amazon sales data to gain insights into sales performance, customer purchasing behavior, and delivery timelines. The dataset comprises transaction records with various details, including product categories, order and shipment dates, customer information, and sales figures."
      ],
      "metadata": {
        "id": "4oGaHo3PyQAh"
      }
    },
    {
      "cell_type": "markdown",
      "source": [
        "#Importing necessary Libraries"
      ],
      "metadata": {
        "id": "1Pj3AA5xoZ3q"
      }
    },
    {
      "cell_type": "code",
      "execution_count": 1,
      "metadata": {
        "id": "6kswD1kGnXA0"
      },
      "outputs": [],
      "source": [
        "import numpy as np\n",
        "import pandas as pd\n",
        "from datetime import datetime\n",
        "import matplotlib.pyplot as plt\n",
        "import seaborn as sns"
      ]
    },
    {
      "cell_type": "markdown",
      "source": [
        "#Loading the dataset - Amazon Sales Data"
      ],
      "metadata": {
        "id": "0D2bvlYFor0R"
      }
    },
    {
      "cell_type": "code",
      "source": [
        "data = pd.read_csv('/content/Amazon Sales data.csv')\n",
        "data.head(10)"
      ],
      "metadata": {
        "colab": {
          "base_uri": "https://localhost:8080/",
          "height": 484
        },
        "id": "hNuUnK8LoeZe",
        "outputId": "f0e81e47-ff33-44f2-a56f-8351d1b7a72c"
      },
      "execution_count": 4,
      "outputs": [
        {
          "output_type": "execute_result",
          "data": {
            "text/plain": [
              "                              Region                Country        Item Type  \\\n",
              "0              Australia and Oceania                 Tuvalu        Baby Food   \n",
              "1  Central America and the Caribbean                Grenada           Cereal   \n",
              "2                             Europe                 Russia  Office Supplies   \n",
              "3                 Sub-Saharan Africa  Sao Tome and Principe           Fruits   \n",
              "4                 Sub-Saharan Africa                 Rwanda  Office Supplies   \n",
              "5              Australia and Oceania        Solomon Islands        Baby Food   \n",
              "6                 Sub-Saharan Africa                 Angola        Household   \n",
              "7                 Sub-Saharan Africa           Burkina Faso       Vegetables   \n",
              "8                 Sub-Saharan Africa  Republic of the Congo    Personal Care   \n",
              "9                 Sub-Saharan Africa                Senegal           Cereal   \n",
              "\n",
              "  Sales Channel Order Priority  Order Date   Order ID   Ship Date  Units Sold  \\\n",
              "0       Offline              H   5/28/2010  669165933   6/27/2010        9925   \n",
              "1        Online              C   8/22/2012  963881480   9/15/2012        2804   \n",
              "2       Offline              L  05-02-2014  341417157  05-08-2014        1779   \n",
              "3        Online              C   6/20/2014  514321792  07-05-2014        8102   \n",
              "4       Offline              L  02-01-2013  115456712  02-06-2013        5062   \n",
              "5        Online              C  02-04-2015  547995746   2/21/2015        2974   \n",
              "6       Offline              M   4/23/2011  135425221   4/27/2011        4187   \n",
              "7        Online              H   7/17/2012  871543967   7/27/2012        8082   \n",
              "8       Offline              M   7/14/2015  770463311   8/25/2015        6070   \n",
              "9        Online              H   4/18/2014  616607081   5/30/2014        6593   \n",
              "\n",
              "   Unit Price  Unit Cost  Total Revenue  Total Cost  Total Profit  \n",
              "0      255.28     159.42     2533654.00  1582243.50     951410.50  \n",
              "1      205.70     117.11      576782.80   328376.44     248406.36  \n",
              "2      651.21     524.96     1158502.59   933903.84     224598.75  \n",
              "3        9.33       6.92       75591.66    56065.84      19525.82  \n",
              "4      651.21     524.96     3296425.02  2657347.52     639077.50  \n",
              "5      255.28     159.42      759202.72   474115.08     285087.64  \n",
              "6      668.27     502.54     2798046.49  2104134.98     693911.51  \n",
              "7      154.06      90.93     1245112.92   734896.26     510216.66  \n",
              "8       81.73      56.67      496101.10   343986.90     152114.20  \n",
              "9      205.70     117.11     1356180.10   772106.23     584073.87  "
            ],
            "text/html": [
              "\n",
              "  <div id=\"df-57ada1e0-c5bc-48fa-bea7-a1ca1c77f3df\" class=\"colab-df-container\">\n",
              "    <div>\n",
              "<style scoped>\n",
              "    .dataframe tbody tr th:only-of-type {\n",
              "        vertical-align: middle;\n",
              "    }\n",
              "\n",
              "    .dataframe tbody tr th {\n",
              "        vertical-align: top;\n",
              "    }\n",
              "\n",
              "    .dataframe thead th {\n",
              "        text-align: right;\n",
              "    }\n",
              "</style>\n",
              "<table border=\"1\" class=\"dataframe\">\n",
              "  <thead>\n",
              "    <tr style=\"text-align: right;\">\n",
              "      <th></th>\n",
              "      <th>Region</th>\n",
              "      <th>Country</th>\n",
              "      <th>Item Type</th>\n",
              "      <th>Sales Channel</th>\n",
              "      <th>Order Priority</th>\n",
              "      <th>Order Date</th>\n",
              "      <th>Order ID</th>\n",
              "      <th>Ship Date</th>\n",
              "      <th>Units Sold</th>\n",
              "      <th>Unit Price</th>\n",
              "      <th>Unit Cost</th>\n",
              "      <th>Total Revenue</th>\n",
              "      <th>Total Cost</th>\n",
              "      <th>Total Profit</th>\n",
              "    </tr>\n",
              "  </thead>\n",
              "  <tbody>\n",
              "    <tr>\n",
              "      <th>0</th>\n",
              "      <td>Australia and Oceania</td>\n",
              "      <td>Tuvalu</td>\n",
              "      <td>Baby Food</td>\n",
              "      <td>Offline</td>\n",
              "      <td>H</td>\n",
              "      <td>5/28/2010</td>\n",
              "      <td>669165933</td>\n",
              "      <td>6/27/2010</td>\n",
              "      <td>9925</td>\n",
              "      <td>255.28</td>\n",
              "      <td>159.42</td>\n",
              "      <td>2533654.00</td>\n",
              "      <td>1582243.50</td>\n",
              "      <td>951410.50</td>\n",
              "    </tr>\n",
              "    <tr>\n",
              "      <th>1</th>\n",
              "      <td>Central America and the Caribbean</td>\n",
              "      <td>Grenada</td>\n",
              "      <td>Cereal</td>\n",
              "      <td>Online</td>\n",
              "      <td>C</td>\n",
              "      <td>8/22/2012</td>\n",
              "      <td>963881480</td>\n",
              "      <td>9/15/2012</td>\n",
              "      <td>2804</td>\n",
              "      <td>205.70</td>\n",
              "      <td>117.11</td>\n",
              "      <td>576782.80</td>\n",
              "      <td>328376.44</td>\n",
              "      <td>248406.36</td>\n",
              "    </tr>\n",
              "    <tr>\n",
              "      <th>2</th>\n",
              "      <td>Europe</td>\n",
              "      <td>Russia</td>\n",
              "      <td>Office Supplies</td>\n",
              "      <td>Offline</td>\n",
              "      <td>L</td>\n",
              "      <td>05-02-2014</td>\n",
              "      <td>341417157</td>\n",
              "      <td>05-08-2014</td>\n",
              "      <td>1779</td>\n",
              "      <td>651.21</td>\n",
              "      <td>524.96</td>\n",
              "      <td>1158502.59</td>\n",
              "      <td>933903.84</td>\n",
              "      <td>224598.75</td>\n",
              "    </tr>\n",
              "    <tr>\n",
              "      <th>3</th>\n",
              "      <td>Sub-Saharan Africa</td>\n",
              "      <td>Sao Tome and Principe</td>\n",
              "      <td>Fruits</td>\n",
              "      <td>Online</td>\n",
              "      <td>C</td>\n",
              "      <td>6/20/2014</td>\n",
              "      <td>514321792</td>\n",
              "      <td>07-05-2014</td>\n",
              "      <td>8102</td>\n",
              "      <td>9.33</td>\n",
              "      <td>6.92</td>\n",
              "      <td>75591.66</td>\n",
              "      <td>56065.84</td>\n",
              "      <td>19525.82</td>\n",
              "    </tr>\n",
              "    <tr>\n",
              "      <th>4</th>\n",
              "      <td>Sub-Saharan Africa</td>\n",
              "      <td>Rwanda</td>\n",
              "      <td>Office Supplies</td>\n",
              "      <td>Offline</td>\n",
              "      <td>L</td>\n",
              "      <td>02-01-2013</td>\n",
              "      <td>115456712</td>\n",
              "      <td>02-06-2013</td>\n",
              "      <td>5062</td>\n",
              "      <td>651.21</td>\n",
              "      <td>524.96</td>\n",
              "      <td>3296425.02</td>\n",
              "      <td>2657347.52</td>\n",
              "      <td>639077.50</td>\n",
              "    </tr>\n",
              "    <tr>\n",
              "      <th>5</th>\n",
              "      <td>Australia and Oceania</td>\n",
              "      <td>Solomon Islands</td>\n",
              "      <td>Baby Food</td>\n",
              "      <td>Online</td>\n",
              "      <td>C</td>\n",
              "      <td>02-04-2015</td>\n",
              "      <td>547995746</td>\n",
              "      <td>2/21/2015</td>\n",
              "      <td>2974</td>\n",
              "      <td>255.28</td>\n",
              "      <td>159.42</td>\n",
              "      <td>759202.72</td>\n",
              "      <td>474115.08</td>\n",
              "      <td>285087.64</td>\n",
              "    </tr>\n",
              "    <tr>\n",
              "      <th>6</th>\n",
              "      <td>Sub-Saharan Africa</td>\n",
              "      <td>Angola</td>\n",
              "      <td>Household</td>\n",
              "      <td>Offline</td>\n",
              "      <td>M</td>\n",
              "      <td>4/23/2011</td>\n",
              "      <td>135425221</td>\n",
              "      <td>4/27/2011</td>\n",
              "      <td>4187</td>\n",
              "      <td>668.27</td>\n",
              "      <td>502.54</td>\n",
              "      <td>2798046.49</td>\n",
              "      <td>2104134.98</td>\n",
              "      <td>693911.51</td>\n",
              "    </tr>\n",
              "    <tr>\n",
              "      <th>7</th>\n",
              "      <td>Sub-Saharan Africa</td>\n",
              "      <td>Burkina Faso</td>\n",
              "      <td>Vegetables</td>\n",
              "      <td>Online</td>\n",
              "      <td>H</td>\n",
              "      <td>7/17/2012</td>\n",
              "      <td>871543967</td>\n",
              "      <td>7/27/2012</td>\n",
              "      <td>8082</td>\n",
              "      <td>154.06</td>\n",
              "      <td>90.93</td>\n",
              "      <td>1245112.92</td>\n",
              "      <td>734896.26</td>\n",
              "      <td>510216.66</td>\n",
              "    </tr>\n",
              "    <tr>\n",
              "      <th>8</th>\n",
              "      <td>Sub-Saharan Africa</td>\n",
              "      <td>Republic of the Congo</td>\n",
              "      <td>Personal Care</td>\n",
              "      <td>Offline</td>\n",
              "      <td>M</td>\n",
              "      <td>7/14/2015</td>\n",
              "      <td>770463311</td>\n",
              "      <td>8/25/2015</td>\n",
              "      <td>6070</td>\n",
              "      <td>81.73</td>\n",
              "      <td>56.67</td>\n",
              "      <td>496101.10</td>\n",
              "      <td>343986.90</td>\n",
              "      <td>152114.20</td>\n",
              "    </tr>\n",
              "    <tr>\n",
              "      <th>9</th>\n",
              "      <td>Sub-Saharan Africa</td>\n",
              "      <td>Senegal</td>\n",
              "      <td>Cereal</td>\n",
              "      <td>Online</td>\n",
              "      <td>H</td>\n",
              "      <td>4/18/2014</td>\n",
              "      <td>616607081</td>\n",
              "      <td>5/30/2014</td>\n",
              "      <td>6593</td>\n",
              "      <td>205.70</td>\n",
              "      <td>117.11</td>\n",
              "      <td>1356180.10</td>\n",
              "      <td>772106.23</td>\n",
              "      <td>584073.87</td>\n",
              "    </tr>\n",
              "  </tbody>\n",
              "</table>\n",
              "</div>\n",
              "    <div class=\"colab-df-buttons\">\n",
              "\n",
              "  <div class=\"colab-df-container\">\n",
              "    <button class=\"colab-df-convert\" onclick=\"convertToInteractive('df-57ada1e0-c5bc-48fa-bea7-a1ca1c77f3df')\"\n",
              "            title=\"Convert this dataframe to an interactive table.\"\n",
              "            style=\"display:none;\">\n",
              "\n",
              "  <svg xmlns=\"http://www.w3.org/2000/svg\" height=\"24px\" viewBox=\"0 -960 960 960\">\n",
              "    <path d=\"M120-120v-720h720v720H120Zm60-500h600v-160H180v160Zm220 220h160v-160H400v160Zm0 220h160v-160H400v160ZM180-400h160v-160H180v160Zm440 0h160v-160H620v160ZM180-180h160v-160H180v160Zm440 0h160v-160H620v160Z\"/>\n",
              "  </svg>\n",
              "    </button>\n",
              "\n",
              "  <style>\n",
              "    .colab-df-container {\n",
              "      display:flex;\n",
              "      gap: 12px;\n",
              "    }\n",
              "\n",
              "    .colab-df-convert {\n",
              "      background-color: #E8F0FE;\n",
              "      border: none;\n",
              "      border-radius: 50%;\n",
              "      cursor: pointer;\n",
              "      display: none;\n",
              "      fill: #1967D2;\n",
              "      height: 32px;\n",
              "      padding: 0 0 0 0;\n",
              "      width: 32px;\n",
              "    }\n",
              "\n",
              "    .colab-df-convert:hover {\n",
              "      background-color: #E2EBFA;\n",
              "      box-shadow: 0px 1px 2px rgba(60, 64, 67, 0.3), 0px 1px 3px 1px rgba(60, 64, 67, 0.15);\n",
              "      fill: #174EA6;\n",
              "    }\n",
              "\n",
              "    .colab-df-buttons div {\n",
              "      margin-bottom: 4px;\n",
              "    }\n",
              "\n",
              "    [theme=dark] .colab-df-convert {\n",
              "      background-color: #3B4455;\n",
              "      fill: #D2E3FC;\n",
              "    }\n",
              "\n",
              "    [theme=dark] .colab-df-convert:hover {\n",
              "      background-color: #434B5C;\n",
              "      box-shadow: 0px 1px 3px 1px rgba(0, 0, 0, 0.15);\n",
              "      filter: drop-shadow(0px 1px 2px rgba(0, 0, 0, 0.3));\n",
              "      fill: #FFFFFF;\n",
              "    }\n",
              "  </style>\n",
              "\n",
              "    <script>\n",
              "      const buttonEl =\n",
              "        document.querySelector('#df-57ada1e0-c5bc-48fa-bea7-a1ca1c77f3df button.colab-df-convert');\n",
              "      buttonEl.style.display =\n",
              "        google.colab.kernel.accessAllowed ? 'block' : 'none';\n",
              "\n",
              "      async function convertToInteractive(key) {\n",
              "        const element = document.querySelector('#df-57ada1e0-c5bc-48fa-bea7-a1ca1c77f3df');\n",
              "        const dataTable =\n",
              "          await google.colab.kernel.invokeFunction('convertToInteractive',\n",
              "                                                    [key], {});\n",
              "        if (!dataTable) return;\n",
              "\n",
              "        const docLinkHtml = 'Like what you see? Visit the ' +\n",
              "          '<a target=\"_blank\" href=https://colab.research.google.com/notebooks/data_table.ipynb>data table notebook</a>'\n",
              "          + ' to learn more about interactive tables.';\n",
              "        element.innerHTML = '';\n",
              "        dataTable['output_type'] = 'display_data';\n",
              "        await google.colab.output.renderOutput(dataTable, element);\n",
              "        const docLink = document.createElement('div');\n",
              "        docLink.innerHTML = docLinkHtml;\n",
              "        element.appendChild(docLink);\n",
              "      }\n",
              "    </script>\n",
              "  </div>\n",
              "\n",
              "\n",
              "<div id=\"df-e6585c50-5052-4610-8389-6d164444b483\">\n",
              "  <button class=\"colab-df-quickchart\" onclick=\"quickchart('df-e6585c50-5052-4610-8389-6d164444b483')\"\n",
              "            title=\"Suggest charts\"\n",
              "            style=\"display:none;\">\n",
              "\n",
              "<svg xmlns=\"http://www.w3.org/2000/svg\" height=\"24px\"viewBox=\"0 0 24 24\"\n",
              "     width=\"24px\">\n",
              "    <g>\n",
              "        <path d=\"M19 3H5c-1.1 0-2 .9-2 2v14c0 1.1.9 2 2 2h14c1.1 0 2-.9 2-2V5c0-1.1-.9-2-2-2zM9 17H7v-7h2v7zm4 0h-2V7h2v10zm4 0h-2v-4h2v4z\"/>\n",
              "    </g>\n",
              "</svg>\n",
              "  </button>\n",
              "\n",
              "<style>\n",
              "  .colab-df-quickchart {\n",
              "      --bg-color: #E8F0FE;\n",
              "      --fill-color: #1967D2;\n",
              "      --hover-bg-color: #E2EBFA;\n",
              "      --hover-fill-color: #174EA6;\n",
              "      --disabled-fill-color: #AAA;\n",
              "      --disabled-bg-color: #DDD;\n",
              "  }\n",
              "\n",
              "  [theme=dark] .colab-df-quickchart {\n",
              "      --bg-color: #3B4455;\n",
              "      --fill-color: #D2E3FC;\n",
              "      --hover-bg-color: #434B5C;\n",
              "      --hover-fill-color: #FFFFFF;\n",
              "      --disabled-bg-color: #3B4455;\n",
              "      --disabled-fill-color: #666;\n",
              "  }\n",
              "\n",
              "  .colab-df-quickchart {\n",
              "    background-color: var(--bg-color);\n",
              "    border: none;\n",
              "    border-radius: 50%;\n",
              "    cursor: pointer;\n",
              "    display: none;\n",
              "    fill: var(--fill-color);\n",
              "    height: 32px;\n",
              "    padding: 0;\n",
              "    width: 32px;\n",
              "  }\n",
              "\n",
              "  .colab-df-quickchart:hover {\n",
              "    background-color: var(--hover-bg-color);\n",
              "    box-shadow: 0 1px 2px rgba(60, 64, 67, 0.3), 0 1px 3px 1px rgba(60, 64, 67, 0.15);\n",
              "    fill: var(--button-hover-fill-color);\n",
              "  }\n",
              "\n",
              "  .colab-df-quickchart-complete:disabled,\n",
              "  .colab-df-quickchart-complete:disabled:hover {\n",
              "    background-color: var(--disabled-bg-color);\n",
              "    fill: var(--disabled-fill-color);\n",
              "    box-shadow: none;\n",
              "  }\n",
              "\n",
              "  .colab-df-spinner {\n",
              "    border: 2px solid var(--fill-color);\n",
              "    border-color: transparent;\n",
              "    border-bottom-color: var(--fill-color);\n",
              "    animation:\n",
              "      spin 1s steps(1) infinite;\n",
              "  }\n",
              "\n",
              "  @keyframes spin {\n",
              "    0% {\n",
              "      border-color: transparent;\n",
              "      border-bottom-color: var(--fill-color);\n",
              "      border-left-color: var(--fill-color);\n",
              "    }\n",
              "    20% {\n",
              "      border-color: transparent;\n",
              "      border-left-color: var(--fill-color);\n",
              "      border-top-color: var(--fill-color);\n",
              "    }\n",
              "    30% {\n",
              "      border-color: transparent;\n",
              "      border-left-color: var(--fill-color);\n",
              "      border-top-color: var(--fill-color);\n",
              "      border-right-color: var(--fill-color);\n",
              "    }\n",
              "    40% {\n",
              "      border-color: transparent;\n",
              "      border-right-color: var(--fill-color);\n",
              "      border-top-color: var(--fill-color);\n",
              "    }\n",
              "    60% {\n",
              "      border-color: transparent;\n",
              "      border-right-color: var(--fill-color);\n",
              "    }\n",
              "    80% {\n",
              "      border-color: transparent;\n",
              "      border-right-color: var(--fill-color);\n",
              "      border-bottom-color: var(--fill-color);\n",
              "    }\n",
              "    90% {\n",
              "      border-color: transparent;\n",
              "      border-bottom-color: var(--fill-color);\n",
              "    }\n",
              "  }\n",
              "</style>\n",
              "\n",
              "  <script>\n",
              "    async function quickchart(key) {\n",
              "      const quickchartButtonEl =\n",
              "        document.querySelector('#' + key + ' button');\n",
              "      quickchartButtonEl.disabled = true;  // To prevent multiple clicks.\n",
              "      quickchartButtonEl.classList.add('colab-df-spinner');\n",
              "      try {\n",
              "        const charts = await google.colab.kernel.invokeFunction(\n",
              "            'suggestCharts', [key], {});\n",
              "      } catch (error) {\n",
              "        console.error('Error during call to suggestCharts:', error);\n",
              "      }\n",
              "      quickchartButtonEl.classList.remove('colab-df-spinner');\n",
              "      quickchartButtonEl.classList.add('colab-df-quickchart-complete');\n",
              "    }\n",
              "    (() => {\n",
              "      let quickchartButtonEl =\n",
              "        document.querySelector('#df-e6585c50-5052-4610-8389-6d164444b483 button');\n",
              "      quickchartButtonEl.style.display =\n",
              "        google.colab.kernel.accessAllowed ? 'block' : 'none';\n",
              "    })();\n",
              "  </script>\n",
              "</div>\n",
              "\n",
              "    </div>\n",
              "  </div>\n"
            ],
            "application/vnd.google.colaboratory.intrinsic+json": {
              "type": "dataframe",
              "variable_name": "data",
              "summary": "{\n  \"name\": \"data\",\n  \"rows\": 100,\n  \"fields\": [\n    {\n      \"column\": \"Region\",\n      \"properties\": {\n        \"dtype\": \"category\",\n        \"num_unique_values\": 7,\n        \"samples\": [\n          \"Australia and Oceania\",\n          \"Central America and the Caribbean\",\n          \"Middle East and North Africa\"\n        ],\n        \"semantic_type\": \"\",\n        \"description\": \"\"\n      }\n    },\n    {\n      \"column\": \"Country\",\n      \"properties\": {\n        \"dtype\": \"string\",\n        \"num_unique_values\": 76,\n        \"samples\": [\n          \"Rwanda\",\n          \"Brunei\",\n          \"Kyrgyzstan\"\n        ],\n        \"semantic_type\": \"\",\n        \"description\": \"\"\n      }\n    },\n    {\n      \"column\": \"Item Type\",\n      \"properties\": {\n        \"dtype\": \"category\",\n        \"num_unique_values\": 12,\n        \"samples\": [\n          \"Meat\",\n          \"Beverages\",\n          \"Baby Food\"\n        ],\n        \"semantic_type\": \"\",\n        \"description\": \"\"\n      }\n    },\n    {\n      \"column\": \"Sales Channel\",\n      \"properties\": {\n        \"dtype\": \"category\",\n        \"num_unique_values\": 2,\n        \"samples\": [\n          \"Online\",\n          \"Offline\"\n        ],\n        \"semantic_type\": \"\",\n        \"description\": \"\"\n      }\n    },\n    {\n      \"column\": \"Order Priority\",\n      \"properties\": {\n        \"dtype\": \"category\",\n        \"num_unique_values\": 4,\n        \"samples\": [\n          \"C\",\n          \"M\"\n        ],\n        \"semantic_type\": \"\",\n        \"description\": \"\"\n      }\n    },\n    {\n      \"column\": \"Order Date\",\n      \"properties\": {\n        \"dtype\": \"string\",\n        \"num_unique_values\": 100,\n        \"samples\": [\n          \"01-04-2011\",\n          \"11/26/2011\"\n        ],\n        \"semantic_type\": \"\",\n        \"description\": \"\"\n      }\n    },\n    {\n      \"column\": \"Order ID\",\n      \"properties\": {\n        \"dtype\": \"number\",\n        \"std\": 260615257,\n        \"min\": 114606559,\n        \"max\": 994022214,\n        \"num_unique_values\": 100,\n        \"samples\": [\n          122583663,\n          441888415\n        ],\n        \"semantic_type\": \"\",\n        \"description\": \"\"\n      }\n    },\n    {\n      \"column\": \"Ship Date\",\n      \"properties\": {\n        \"dtype\": \"string\",\n        \"num_unique_values\": 99,\n        \"samples\": [\n          \"11/15/2011\",\n          \"3/28/2017\"\n        ],\n        \"semantic_type\": \"\",\n        \"description\": \"\"\n      }\n    },\n    {\n      \"column\": \"Units Sold\",\n      \"properties\": {\n        \"dtype\": \"number\",\n        \"std\": 2794,\n        \"min\": 124,\n        \"max\": 9925,\n        \"num_unique_values\": 99,\n        \"samples\": [\n          5518,\n          3015\n        ],\n        \"semantic_type\": \"\",\n        \"description\": \"\"\n      }\n    },\n    {\n      \"column\": \"Unit Price\",\n      \"properties\": {\n        \"dtype\": \"number\",\n        \"std\": 235.59224058433128,\n        \"min\": 9.33,\n        \"max\": 668.27,\n        \"num_unique_values\": 12,\n        \"samples\": [\n          421.89,\n          47.45\n        ],\n        \"semantic_type\": \"\",\n        \"description\": \"\"\n      }\n    },\n    {\n      \"column\": \"Unit Cost\",\n      \"properties\": {\n        \"dtype\": \"number\",\n        \"std\": 188.20818124855495,\n        \"min\": 6.92,\n        \"max\": 524.96,\n        \"num_unique_values\": 12,\n        \"samples\": [\n          364.69,\n          31.79\n        ],\n        \"semantic_type\": \"\",\n        \"description\": \"\"\n      }\n    },\n    {\n      \"column\": \"Total Revenue\",\n      \"properties\": {\n        \"dtype\": \"number\",\n        \"std\": 1460028.7068235006,\n        \"min\": 4870.26,\n        \"max\": 5997054.98,\n        \"num_unique_values\": 100,\n        \"samples\": [\n          623289.3,\n          2251232.97\n        ],\n        \"semantic_type\": \"\",\n        \"description\": \"\"\n      }\n    },\n    {\n      \"column\": \"Total Cost\",\n      \"properties\": {\n        \"dtype\": \"number\",\n        \"std\": 1083938.2521883622,\n        \"min\": 3612.24,\n        \"max\": 4509793.96,\n        \"num_unique_values\": 100,\n        \"samples\": [\n          398042.4,\n          1814786.72\n        ],\n        \"semantic_type\": \"\",\n        \"description\": \"\"\n      }\n    },\n    {\n      \"column\": \"Total Profit\",\n      \"properties\": {\n        \"dtype\": \"number\",\n        \"std\": 438537.90705963754,\n        \"min\": 1258.02,\n        \"max\": 1719922.04,\n        \"num_unique_values\": 100,\n        \"samples\": [\n          225246.9,\n          436446.25\n        ],\n        \"semantic_type\": \"\",\n        \"description\": \"\"\n      }\n    }\n  ]\n}"
            }
          },
          "metadata": {},
          "execution_count": 4
        }
      ]
    },
    {
      "cell_type": "markdown",
      "source": [
        "#Description of the Dataset"
      ],
      "metadata": {
        "id": "-nPv-9iDx4AS"
      }
    },
    {
      "cell_type": "markdown",
      "source": [
        "* Region: Geographic region where the sale took place.\n",
        "* Country: Specific country of the sale.\n",
        "* Item Type: Category of the item sold (e.g., Baby Food, Cereal, Office * Supplies).\n",
        "* Sales Channel: Whether the sale was made online or offline.\n",
        "* Order Priority: Priority level of the order (e.g., H, C, L, M).\n",
        "* Order Date: Date on which the order was placed.\n",
        "* Order ID: Unique identifier for each order.\n",
        "* Ship Date: Date on which the order was shipped.\n",
        "* Units Sold: Number of units sold for the order.\n",
        "* Unit Price: Price per unit of the item.\n",
        "* Unit Cost: Cost per unit for the company.\n",
        "* Total Revenue: Total revenue from the sale (Units Sold * Unit Price).\n",
        "* Total Cost: Total cost for the sale (Units Sold * Unit Cost).\n",
        "* Total Profit: Profit from the sale (Total Revenue - Total Cost)."
      ],
      "metadata": {
        "id": "87Ls5BTvx7ud"
      }
    },
    {
      "cell_type": "markdown",
      "source": [
        "#Displaying information about the dataset"
      ],
      "metadata": {
        "id": "dtOJ2aagoyUh"
      }
    },
    {
      "cell_type": "code",
      "source": [
        "print(\"Rows, Columns:\",data.shape)\n",
        "print(\"------------------------------------------\")\n",
        "print(data.info())\n",
        "print(\"------------------------------------------\")\n",
        "print(data.describe())"
      ],
      "metadata": {
        "colab": {
          "base_uri": "https://localhost:8080/"
        },
        "id": "QDWHzV8qowD8",
        "outputId": "357ae50a-df17-4d7f-a61c-45707225926d"
      },
      "execution_count": 13,
      "outputs": [
        {
          "output_type": "stream",
          "name": "stdout",
          "text": [
            "Rows, Columns: (100, 14)\n",
            "------------------------------------------\n",
            "<class 'pandas.core.frame.DataFrame'>\n",
            "RangeIndex: 100 entries, 0 to 99\n",
            "Data columns (total 14 columns):\n",
            " #   Column          Non-Null Count  Dtype  \n",
            "---  ------          --------------  -----  \n",
            " 0   Region          100 non-null    object \n",
            " 1   Country         100 non-null    object \n",
            " 2   Item Type       100 non-null    object \n",
            " 3   Sales Channel   100 non-null    object \n",
            " 4   Order Priority  100 non-null    object \n",
            " 5   Order Date      100 non-null    object \n",
            " 6   Order ID        100 non-null    int64  \n",
            " 7   Ship Date       100 non-null    object \n",
            " 8   Units Sold      100 non-null    int64  \n",
            " 9   Unit Price      100 non-null    float64\n",
            " 10  Unit Cost       100 non-null    float64\n",
            " 11  Total Revenue   100 non-null    float64\n",
            " 12  Total Cost      100 non-null    float64\n",
            " 13  Total Profit    100 non-null    float64\n",
            "dtypes: float64(5), int64(2), object(7)\n",
            "memory usage: 11.1+ KB\n",
            "None\n",
            "------------------------------------------\n",
            "           Order ID   Units Sold  Unit Price   Unit Cost  Total Revenue  \\\n",
            "count  1.000000e+02   100.000000  100.000000  100.000000   1.000000e+02   \n",
            "mean   5.550204e+08  5128.710000  276.761300  191.048000   1.373488e+06   \n",
            "std    2.606153e+08  2794.484562  235.592241  188.208181   1.460029e+06   \n",
            "min    1.146066e+08   124.000000    9.330000    6.920000   4.870260e+03   \n",
            "25%    3.389225e+08  2836.250000   81.730000   35.840000   2.687212e+05   \n",
            "50%    5.577086e+08  5382.500000  179.880000  107.275000   7.523144e+05   \n",
            "75%    7.907551e+08  7369.000000  437.200000  263.330000   2.212045e+06   \n",
            "max    9.940222e+08  9925.000000  668.270000  524.960000   5.997055e+06   \n",
            "\n",
            "         Total Cost  Total Profit  \n",
            "count  1.000000e+02  1.000000e+02  \n",
            "mean   9.318057e+05  4.416820e+05  \n",
            "std    1.083938e+06  4.385379e+05  \n",
            "min    3.612240e+03  1.258020e+03  \n",
            "25%    1.688680e+05  1.214436e+05  \n",
            "50%    3.635664e+05  2.907680e+05  \n",
            "75%    1.613870e+06  6.358288e+05  \n",
            "max    4.509794e+06  1.719922e+06  \n"
          ]
        }
      ]
    },
    {
      "cell_type": "markdown",
      "source": [
        "#Data Preprocessing"
      ],
      "metadata": {
        "id": "uX3hXDS4rZ-P"
      }
    },
    {
      "cell_type": "markdown",
      "source": [
        "CHANGING THE ORDER DATE AND SHIP DATE TO PANDAS DATETIME FORMAT"
      ],
      "metadata": {
        "id": "6ZmPUVlAqRDn"
      }
    },
    {
      "cell_type": "code",
      "source": [
        "data['Order Date'] = pd.to_datetime(data['Order Date'], format='mixed', errors='coerce')\n",
        "data['Ship Date'] = pd.to_datetime(data['Ship Date'], format='mixed', errors='coerce')"
      ],
      "metadata": {
        "id": "RD0hjtUUpgHz"
      },
      "execution_count": 16,
      "outputs": []
    },
    {
      "cell_type": "markdown",
      "source": [
        "FINDING THE YEAR, MONTH AND DAY FROM THE DATE"
      ],
      "metadata": {
        "id": "NX2hdRrxrdBU"
      }
    },
    {
      "cell_type": "code",
      "source": [
        "data['Year'] = data['Order Date'].dt.year\n",
        "data['Month'] = data['Order Date'].dt.month\n",
        "data['Day'] = data['Order Date'].dt.day"
      ],
      "metadata": {
        "id": "yRlCOPEsqTb4"
      },
      "execution_count": 20,
      "outputs": []
    },
    {
      "cell_type": "markdown",
      "source": [
        "MONTH WISE SALES TREND"
      ],
      "metadata": {
        "id": "LsAUHRQnrtia"
      }
    },
    {
      "cell_type": "code",
      "source": [
        "monthly_sales = data.groupby('Month')[['Total Revenue']].sum()\n",
        "print(\"The monthly sales is given by:\")\n",
        "print(monthly_sales)"
      ],
      "metadata": {
        "colab": {
          "base_uri": "https://localhost:8080/"
        },
        "id": "x58Gubn6riz-",
        "outputId": "4e27f64b-f734-42fc-f1d2-03ed618c5f7c"
      },
      "execution_count": 21,
      "outputs": [
        {
          "output_type": "stream",
          "name": "stdout",
          "text": [
            "The monthly sales is given by:\n",
            "       Total Revenue\n",
            "Month               \n",
            "1        10482467.12\n",
            "2        24740517.77\n",
            "3         2274823.87\n",
            "4        16187186.33\n",
            "5        13215739.99\n",
            "6         5230325.77\n",
            "7        15669518.50\n",
            "8         1128164.91\n",
            "9         5314762.56\n",
            "10       15287576.61\n",
            "11       20568222.76\n",
            "12        7249462.12\n"
          ]
        }
      ]
    },
    {
      "cell_type": "markdown",
      "source": [
        "YEAR WISE SALES TREND"
      ],
      "metadata": {
        "id": "tvb7QyQksNfs"
      }
    },
    {
      "cell_type": "code",
      "source": [
        "yearly_sales = data.groupby('Year')[['Total Revenue']].sum()\n",
        "print(\"The yearly sales is given by:\")\n",
        "print(yearly_sales)"
      ],
      "metadata": {
        "colab": {
          "base_uri": "https://localhost:8080/"
        },
        "id": "7OMjt4oDsM_q",
        "outputId": "bdea30ec-4947-4530-dd7d-af88a1a87ba9"
      },
      "execution_count": 23,
      "outputs": [
        {
          "output_type": "stream",
          "name": "stdout",
          "text": [
            "The yearly sales is given by:\n",
            "      Total Revenue\n",
            "Year               \n",
            "2010    19186024.92\n",
            "2011    11129166.07\n",
            "2012    31898644.52\n",
            "2013    20330448.66\n",
            "2014    16630214.43\n",
            "2015    12427982.86\n",
            "2016    12372867.22\n",
            "2017    13373419.63\n"
          ]
        }
      ]
    },
    {
      "cell_type": "markdown",
      "source": [
        "TO GET THE YEAR - MONTH COLUMN"
      ],
      "metadata": {
        "id": "sTYIlMmbsUvC"
      }
    },
    {
      "cell_type": "code",
      "source": [
        "data['Year_month'] = data['Year'].astype(str) + '-' + data['Month'].astype(str)\n",
        "print(data)"
      ],
      "metadata": {
        "colab": {
          "base_uri": "https://localhost:8080/"
        },
        "id": "_ovjhXxisW2t",
        "outputId": "515525ec-e21e-478b-e3e4-f82e3a5b0e24"
      },
      "execution_count": 31,
      "outputs": [
        {
          "output_type": "stream",
          "name": "stdout",
          "text": [
            "                               Region                Country        Item Type  \\\n",
            "0               Australia and Oceania                 Tuvalu        Baby Food   \n",
            "1   Central America and the Caribbean                Grenada           Cereal   \n",
            "2                              Europe                 Russia  Office Supplies   \n",
            "3                  Sub-Saharan Africa  Sao Tome and Principe           Fruits   \n",
            "4                  Sub-Saharan Africa                 Rwanda  Office Supplies   \n",
            "..                                ...                    ...              ...   \n",
            "95                 Sub-Saharan Africa                   Mali          Clothes   \n",
            "96                               Asia               Malaysia           Fruits   \n",
            "97                 Sub-Saharan Africa           Sierra Leone       Vegetables   \n",
            "98                      North America                 Mexico    Personal Care   \n",
            "99                 Sub-Saharan Africa             Mozambique        Household   \n",
            "\n",
            "   Sales Channel Order Priority Order Date   Order ID  Ship Date  Units Sold  \\\n",
            "0        Offline              H 2010-05-28  669165933 2010-06-27        9925   \n",
            "1         Online              C 2012-08-22  963881480 2012-09-15        2804   \n",
            "2        Offline              L 2014-05-02  341417157 2014-05-08        1779   \n",
            "3         Online              C 2014-06-20  514321792 2014-07-05        8102   \n",
            "4        Offline              L 2013-02-01  115456712 2013-02-06        5062   \n",
            "..           ...            ...        ...        ...        ...         ...   \n",
            "95        Online              M 2011-07-26  512878119 2011-09-03         888   \n",
            "96       Offline              L 2011-11-11  810711038 2011-12-28        6267   \n",
            "97       Offline              C 2016-06-01  728815257 2016-06-29        1485   \n",
            "98       Offline              M 2015-07-30  559427106 2015-08-08        5767   \n",
            "99       Offline              L 2012-02-10  665095412 2012-02-15        5367   \n",
            "\n",
            "    Unit Price  Unit Cost  Total Revenue  Total Cost  Total Profit  Year  \\\n",
            "0       255.28     159.42     2533654.00  1582243.50     951410.50  2010   \n",
            "1       205.70     117.11      576782.80   328376.44     248406.36  2012   \n",
            "2       651.21     524.96     1158502.59   933903.84     224598.75  2014   \n",
            "3         9.33       6.92       75591.66    56065.84      19525.82  2014   \n",
            "4       651.21     524.96     3296425.02  2657347.52     639077.50  2013   \n",
            "..         ...        ...            ...         ...           ...   ...   \n",
            "95      109.28      35.84       97040.64    31825.92      65214.72  2011   \n",
            "96        9.33       6.92       58471.11    43367.64      15103.47  2011   \n",
            "97      154.06      90.93      228779.10   135031.05      93748.05  2016   \n",
            "98       81.73      56.67      471336.91   326815.89     144521.02  2015   \n",
            "99      668.27     502.54     3586605.09  2697132.18     889472.91  2012   \n",
            "\n",
            "    Month  Day Year_month  \n",
            "0       5   28     2010-5  \n",
            "1       8   22     2012-8  \n",
            "2       5    2     2014-5  \n",
            "3       6   20     2014-6  \n",
            "4       2    1     2013-2  \n",
            "..    ...  ...        ...  \n",
            "95      7   26     2011-7  \n",
            "96     11   11    2011-11  \n",
            "97      6    1     2016-6  \n",
            "98      7   30     2015-7  \n",
            "99      2   10     2012-2  \n",
            "\n",
            "[100 rows x 18 columns]\n"
          ]
        }
      ]
    },
    {
      "cell_type": "markdown",
      "source": [
        "YEARLY MONTH WISE SALES TREND"
      ],
      "metadata": {
        "id": "Z3aYfYsVs66h"
      }
    },
    {
      "cell_type": "code",
      "source": [
        "yearly_month_sales = data.groupby('Year_month')[['Total Revenue']].sum()\n",
        "print(\"The monthly sales is given by:\")\n",
        "print(yearly_month_sales)"
      ],
      "metadata": {
        "colab": {
          "base_uri": "https://localhost:8080/"
        },
        "id": "OxnWNsFVsy21",
        "outputId": "a18a3775-5b3b-48d5-9167-1790e5dcf7eb"
      },
      "execution_count": 33,
      "outputs": [
        {
          "output_type": "stream",
          "name": "stdout",
          "text": [
            "The monthly sales is given by:\n",
            "            Total Revenue\n",
            "Year_month               \n",
            "2010-10        6064933.75\n",
            "2010-11        3458252.00\n",
            "2010-12        2581786.39\n",
            "2010-2         3410661.12\n",
            "2010-5         2587973.26\n",
            "2010-6         1082418.40\n",
            "2011-1         1042225.35\n",
            "2011-11        5938385.58\n",
            "2011-2          387002.20\n",
            "2011-4         2798046.49\n",
            "2011-5          272410.45\n",
            "2011-6           19103.44\n",
            "2011-7           97040.64\n",
            "2011-9          574951.92\n",
            "2012-1         1012884.00\n",
            "2012-10        3042246.77\n",
            "2012-2         6707849.42\n",
            "2012-3          994765.42\n",
            "2012-4         4556012.38\n",
            "2012-5         3782781.82\n",
            "2012-6         2132075.27\n",
            "2012-7         4445093.92\n",
            "2012-8          576782.80\n",
            "2012-9         4648152.72\n",
            "2013-10        2702770.40\n",
            "2013-12         173676.25\n",
            "2013-2         3296425.02\n",
            "2013-3          835759.10\n",
            "2013-4         3262562.10\n",
            "2013-6         1352867.40\n",
            "2013-7         8545511.20\n",
            "2013-8           89623.98\n",
            "2013-9           71253.21\n",
            "2014-10        1352370.65\n",
            "2014-11        4647149.58\n",
            "2014-2         1819660.25\n",
            "2014-4         4510578.10\n",
            "2014-5         3060338.59\n",
            "2014-6           75591.66\n",
            "2014-7          688641.85\n",
            "2014-8          455479.04\n",
            "2014-9           20404.71\n",
            "2015-1         5513227.50\n",
            "2015-10        1904138.04\n",
            "2015-11         648030.40\n",
            "2015-2         2003911.12\n",
            "2015-4         1059987.26\n",
            "2015-7         1292409.45\n",
            "2015-8            6279.09\n",
            "2016-10         221117.00\n",
            "2016-11        5876405.20\n",
            "2016-12        4493999.48\n",
            "2016-3          197883.40\n",
            "2016-5          414371.10\n",
            "2016-6          568269.60\n",
            "2016-7          600821.44\n",
            "2017-1         2914130.27\n",
            "2017-2         7115008.64\n",
            "2017-3          246415.95\n",
            "2017-5         3097864.77\n"
          ]
        }
      ]
    },
    {
      "cell_type": "markdown",
      "source": [
        "TOTAL AND AVERAGE SALES REVENUE"
      ],
      "metadata": {
        "id": "dIINhm8stS0o"
      }
    },
    {
      "cell_type": "code",
      "source": [
        "tot_rev = data['Total Revenue'].sum()\n",
        "avg_rev = data['Total Revenue'].mean()\n",
        "print(\"The Total Revenue is:\",tot_rev)\n",
        "print(\"The Average Revenue of the data is:\", avg_rev)"
      ],
      "metadata": {
        "colab": {
          "base_uri": "https://localhost:8080/"
        },
        "id": "tP6Qg0NvtDJQ",
        "outputId": "34d7c073-7c22-43d7-9ad0-1ed89138d899"
      },
      "execution_count": 35,
      "outputs": [
        {
          "output_type": "stream",
          "name": "stdout",
          "text": [
            "The Total Revenue is: 137348768.31\n",
            "The Average Revenue of the data is: 1373487.6831\n"
          ]
        }
      ]
    },
    {
      "cell_type": "markdown",
      "source": [
        "REGION WITH MOST SALES"
      ],
      "metadata": {
        "id": "vJGhqbYOtgsl"
      }
    },
    {
      "cell_type": "code",
      "source": [
        "mod = np.unique(data['Region'])\n",
        "mod1 = np. argmax(mod)\n",
        "print('The Region with the most sales is:',mod [mod1])"
      ],
      "metadata": {
        "colab": {
          "base_uri": "https://localhost:8080/"
        },
        "id": "LN8HOlE8terQ",
        "outputId": "abcaf04e-039b-4050-9e17-f95b01ef784c"
      },
      "execution_count": 38,
      "outputs": [
        {
          "output_type": "stream",
          "name": "stdout",
          "text": [
            "The Region with the most sales is: Sub-Saharan Africa\n"
          ]
        }
      ]
    },
    {
      "cell_type": "markdown",
      "source": [
        "COUNT OF DIFFERENT ITEMS ORDERED"
      ],
      "metadata": {
        "id": "tmyYPp3qt0ji"
      }
    },
    {
      "cell_type": "code",
      "source": [
        "temp = data['Item Type'].value_counts()\n",
        "print(temp)"
      ],
      "metadata": {
        "colab": {
          "base_uri": "https://localhost:8080/"
        },
        "id": "wVCX8NU-tqVL",
        "outputId": "a807c1b2-32e7-4e1d-dc10-ad1a3e07491c"
      },
      "execution_count": 39,
      "outputs": [
        {
          "output_type": "stream",
          "name": "stdout",
          "text": [
            "Item Type\n",
            "Clothes            13\n",
            "Cosmetics          13\n",
            "Office Supplies    12\n",
            "Fruits             10\n",
            "Personal Care      10\n",
            "Household           9\n",
            "Beverages           8\n",
            "Baby Food           7\n",
            "Cereal              7\n",
            "Vegetables          6\n",
            "Snacks              3\n",
            "Meat                2\n",
            "Name: count, dtype: int64\n"
          ]
        }
      ]
    },
    {
      "cell_type": "markdown",
      "source": [
        "THREE MOST ORDERED ITEMS BY CUSTOMERS"
      ],
      "metadata": {
        "id": "4uw231U_t6Xw"
      }
    },
    {
      "cell_type": "code",
      "source": [
        "top_orders = data.groupby('Item Type')['Total Revenue'].sum().nlargest(3)\n",
        "print('The three most ordered items according to revenue:')\n",
        "print(top_orders)"
      ],
      "metadata": {
        "colab": {
          "base_uri": "https://localhost:8080/"
        },
        "id": "FXYsi_-bt4je",
        "outputId": "39ee5871-0a9b-4166-e97a-eda0007e4ded"
      },
      "execution_count": 40,
      "outputs": [
        {
          "output_type": "stream",
          "name": "stdout",
          "text": [
            "The three most ordered items according to revenue:\n",
            "Item Type\n",
            "Cosmetics          36601509.60\n",
            "Office Supplies    30585380.07\n",
            "Household          29889712.29\n",
            "Name: Total Revenue, dtype: float64\n"
          ]
        }
      ]
    },
    {
      "cell_type": "markdown",
      "source": [
        "FINDING THE GROSS PROFIT MARGIN COLUMN"
      ],
      "metadata": {
        "id": "235PRpfauCw6"
      }
    },
    {
      "cell_type": "code",
      "source": [
        "data['Gross Profit Margin'] = (data['Total Profit']/data['Total Revenue'])*100\n",
        "data"
      ],
      "metadata": {
        "colab": {
          "base_uri": "https://localhost:8080/",
          "height": 770
        },
        "id": "aHUYFOcJuBDH",
        "outputId": "e15539ac-c849-4e54-d0a4-acbbe539b562"
      },
      "execution_count": 41,
      "outputs": [
        {
          "output_type": "execute_result",
          "data": {
            "text/plain": [
              "                               Region                Country        Item Type  \\\n",
              "0               Australia and Oceania                 Tuvalu        Baby Food   \n",
              "1   Central America and the Caribbean                Grenada           Cereal   \n",
              "2                              Europe                 Russia  Office Supplies   \n",
              "3                  Sub-Saharan Africa  Sao Tome and Principe           Fruits   \n",
              "4                  Sub-Saharan Africa                 Rwanda  Office Supplies   \n",
              "..                                ...                    ...              ...   \n",
              "95                 Sub-Saharan Africa                   Mali          Clothes   \n",
              "96                               Asia               Malaysia           Fruits   \n",
              "97                 Sub-Saharan Africa           Sierra Leone       Vegetables   \n",
              "98                      North America                 Mexico    Personal Care   \n",
              "99                 Sub-Saharan Africa             Mozambique        Household   \n",
              "\n",
              "   Sales Channel Order Priority Order Date   Order ID  Ship Date  Units Sold  \\\n",
              "0        Offline              H 2010-05-28  669165933 2010-06-27        9925   \n",
              "1         Online              C 2012-08-22  963881480 2012-09-15        2804   \n",
              "2        Offline              L 2014-05-02  341417157 2014-05-08        1779   \n",
              "3         Online              C 2014-06-20  514321792 2014-07-05        8102   \n",
              "4        Offline              L 2013-02-01  115456712 2013-02-06        5062   \n",
              "..           ...            ...        ...        ...        ...         ...   \n",
              "95        Online              M 2011-07-26  512878119 2011-09-03         888   \n",
              "96       Offline              L 2011-11-11  810711038 2011-12-28        6267   \n",
              "97       Offline              C 2016-06-01  728815257 2016-06-29        1485   \n",
              "98       Offline              M 2015-07-30  559427106 2015-08-08        5767   \n",
              "99       Offline              L 2012-02-10  665095412 2012-02-15        5367   \n",
              "\n",
              "    Unit Price  Unit Cost  Total Revenue  Total Cost  Total Profit  Year  \\\n",
              "0       255.28     159.42     2533654.00  1582243.50     951410.50  2010   \n",
              "1       205.70     117.11      576782.80   328376.44     248406.36  2012   \n",
              "2       651.21     524.96     1158502.59   933903.84     224598.75  2014   \n",
              "3         9.33       6.92       75591.66    56065.84      19525.82  2014   \n",
              "4       651.21     524.96     3296425.02  2657347.52     639077.50  2013   \n",
              "..         ...        ...            ...         ...           ...   ...   \n",
              "95      109.28      35.84       97040.64    31825.92      65214.72  2011   \n",
              "96        9.33       6.92       58471.11    43367.64      15103.47  2011   \n",
              "97      154.06      90.93      228779.10   135031.05      93748.05  2016   \n",
              "98       81.73      56.67      471336.91   326815.89     144521.02  2015   \n",
              "99      668.27     502.54     3586605.09  2697132.18     889472.91  2012   \n",
              "\n",
              "    Month  Day Year_month  Gross Profit Margin  \n",
              "0       5   28     2010-5            37.550924  \n",
              "1       8   22     2012-8            43.067574  \n",
              "2       5    2     2014-5            19.386987  \n",
              "3       6   20     2014-6            25.830654  \n",
              "4       2    1     2013-2            19.386987  \n",
              "..    ...  ...        ...                  ...  \n",
              "95      7   26     2011-7            67.203514  \n",
              "96     11   11    2011-11            25.830654  \n",
              "97      6    1     2016-6            40.977541  \n",
              "98      7   30     2015-7            30.661936  \n",
              "99      2   10     2012-2            24.799856  \n",
              "\n",
              "[100 rows x 19 columns]"
            ],
            "text/html": [
              "\n",
              "  <div id=\"df-53656bc2-c38b-431d-967c-155fd9a95885\" class=\"colab-df-container\">\n",
              "    <div>\n",
              "<style scoped>\n",
              "    .dataframe tbody tr th:only-of-type {\n",
              "        vertical-align: middle;\n",
              "    }\n",
              "\n",
              "    .dataframe tbody tr th {\n",
              "        vertical-align: top;\n",
              "    }\n",
              "\n",
              "    .dataframe thead th {\n",
              "        text-align: right;\n",
              "    }\n",
              "</style>\n",
              "<table border=\"1\" class=\"dataframe\">\n",
              "  <thead>\n",
              "    <tr style=\"text-align: right;\">\n",
              "      <th></th>\n",
              "      <th>Region</th>\n",
              "      <th>Country</th>\n",
              "      <th>Item Type</th>\n",
              "      <th>Sales Channel</th>\n",
              "      <th>Order Priority</th>\n",
              "      <th>Order Date</th>\n",
              "      <th>Order ID</th>\n",
              "      <th>Ship Date</th>\n",
              "      <th>Units Sold</th>\n",
              "      <th>Unit Price</th>\n",
              "      <th>Unit Cost</th>\n",
              "      <th>Total Revenue</th>\n",
              "      <th>Total Cost</th>\n",
              "      <th>Total Profit</th>\n",
              "      <th>Year</th>\n",
              "      <th>Month</th>\n",
              "      <th>Day</th>\n",
              "      <th>Year_month</th>\n",
              "      <th>Gross Profit Margin</th>\n",
              "    </tr>\n",
              "  </thead>\n",
              "  <tbody>\n",
              "    <tr>\n",
              "      <th>0</th>\n",
              "      <td>Australia and Oceania</td>\n",
              "      <td>Tuvalu</td>\n",
              "      <td>Baby Food</td>\n",
              "      <td>Offline</td>\n",
              "      <td>H</td>\n",
              "      <td>2010-05-28</td>\n",
              "      <td>669165933</td>\n",
              "      <td>2010-06-27</td>\n",
              "      <td>9925</td>\n",
              "      <td>255.28</td>\n",
              "      <td>159.42</td>\n",
              "      <td>2533654.00</td>\n",
              "      <td>1582243.50</td>\n",
              "      <td>951410.50</td>\n",
              "      <td>2010</td>\n",
              "      <td>5</td>\n",
              "      <td>28</td>\n",
              "      <td>2010-5</td>\n",
              "      <td>37.550924</td>\n",
              "    </tr>\n",
              "    <tr>\n",
              "      <th>1</th>\n",
              "      <td>Central America and the Caribbean</td>\n",
              "      <td>Grenada</td>\n",
              "      <td>Cereal</td>\n",
              "      <td>Online</td>\n",
              "      <td>C</td>\n",
              "      <td>2012-08-22</td>\n",
              "      <td>963881480</td>\n",
              "      <td>2012-09-15</td>\n",
              "      <td>2804</td>\n",
              "      <td>205.70</td>\n",
              "      <td>117.11</td>\n",
              "      <td>576782.80</td>\n",
              "      <td>328376.44</td>\n",
              "      <td>248406.36</td>\n",
              "      <td>2012</td>\n",
              "      <td>8</td>\n",
              "      <td>22</td>\n",
              "      <td>2012-8</td>\n",
              "      <td>43.067574</td>\n",
              "    </tr>\n",
              "    <tr>\n",
              "      <th>2</th>\n",
              "      <td>Europe</td>\n",
              "      <td>Russia</td>\n",
              "      <td>Office Supplies</td>\n",
              "      <td>Offline</td>\n",
              "      <td>L</td>\n",
              "      <td>2014-05-02</td>\n",
              "      <td>341417157</td>\n",
              "      <td>2014-05-08</td>\n",
              "      <td>1779</td>\n",
              "      <td>651.21</td>\n",
              "      <td>524.96</td>\n",
              "      <td>1158502.59</td>\n",
              "      <td>933903.84</td>\n",
              "      <td>224598.75</td>\n",
              "      <td>2014</td>\n",
              "      <td>5</td>\n",
              "      <td>2</td>\n",
              "      <td>2014-5</td>\n",
              "      <td>19.386987</td>\n",
              "    </tr>\n",
              "    <tr>\n",
              "      <th>3</th>\n",
              "      <td>Sub-Saharan Africa</td>\n",
              "      <td>Sao Tome and Principe</td>\n",
              "      <td>Fruits</td>\n",
              "      <td>Online</td>\n",
              "      <td>C</td>\n",
              "      <td>2014-06-20</td>\n",
              "      <td>514321792</td>\n",
              "      <td>2014-07-05</td>\n",
              "      <td>8102</td>\n",
              "      <td>9.33</td>\n",
              "      <td>6.92</td>\n",
              "      <td>75591.66</td>\n",
              "      <td>56065.84</td>\n",
              "      <td>19525.82</td>\n",
              "      <td>2014</td>\n",
              "      <td>6</td>\n",
              "      <td>20</td>\n",
              "      <td>2014-6</td>\n",
              "      <td>25.830654</td>\n",
              "    </tr>\n",
              "    <tr>\n",
              "      <th>4</th>\n",
              "      <td>Sub-Saharan Africa</td>\n",
              "      <td>Rwanda</td>\n",
              "      <td>Office Supplies</td>\n",
              "      <td>Offline</td>\n",
              "      <td>L</td>\n",
              "      <td>2013-02-01</td>\n",
              "      <td>115456712</td>\n",
              "      <td>2013-02-06</td>\n",
              "      <td>5062</td>\n",
              "      <td>651.21</td>\n",
              "      <td>524.96</td>\n",
              "      <td>3296425.02</td>\n",
              "      <td>2657347.52</td>\n",
              "      <td>639077.50</td>\n",
              "      <td>2013</td>\n",
              "      <td>2</td>\n",
              "      <td>1</td>\n",
              "      <td>2013-2</td>\n",
              "      <td>19.386987</td>\n",
              "    </tr>\n",
              "    <tr>\n",
              "      <th>...</th>\n",
              "      <td>...</td>\n",
              "      <td>...</td>\n",
              "      <td>...</td>\n",
              "      <td>...</td>\n",
              "      <td>...</td>\n",
              "      <td>...</td>\n",
              "      <td>...</td>\n",
              "      <td>...</td>\n",
              "      <td>...</td>\n",
              "      <td>...</td>\n",
              "      <td>...</td>\n",
              "      <td>...</td>\n",
              "      <td>...</td>\n",
              "      <td>...</td>\n",
              "      <td>...</td>\n",
              "      <td>...</td>\n",
              "      <td>...</td>\n",
              "      <td>...</td>\n",
              "      <td>...</td>\n",
              "    </tr>\n",
              "    <tr>\n",
              "      <th>95</th>\n",
              "      <td>Sub-Saharan Africa</td>\n",
              "      <td>Mali</td>\n",
              "      <td>Clothes</td>\n",
              "      <td>Online</td>\n",
              "      <td>M</td>\n",
              "      <td>2011-07-26</td>\n",
              "      <td>512878119</td>\n",
              "      <td>2011-09-03</td>\n",
              "      <td>888</td>\n",
              "      <td>109.28</td>\n",
              "      <td>35.84</td>\n",
              "      <td>97040.64</td>\n",
              "      <td>31825.92</td>\n",
              "      <td>65214.72</td>\n",
              "      <td>2011</td>\n",
              "      <td>7</td>\n",
              "      <td>26</td>\n",
              "      <td>2011-7</td>\n",
              "      <td>67.203514</td>\n",
              "    </tr>\n",
              "    <tr>\n",
              "      <th>96</th>\n",
              "      <td>Asia</td>\n",
              "      <td>Malaysia</td>\n",
              "      <td>Fruits</td>\n",
              "      <td>Offline</td>\n",
              "      <td>L</td>\n",
              "      <td>2011-11-11</td>\n",
              "      <td>810711038</td>\n",
              "      <td>2011-12-28</td>\n",
              "      <td>6267</td>\n",
              "      <td>9.33</td>\n",
              "      <td>6.92</td>\n",
              "      <td>58471.11</td>\n",
              "      <td>43367.64</td>\n",
              "      <td>15103.47</td>\n",
              "      <td>2011</td>\n",
              "      <td>11</td>\n",
              "      <td>11</td>\n",
              "      <td>2011-11</td>\n",
              "      <td>25.830654</td>\n",
              "    </tr>\n",
              "    <tr>\n",
              "      <th>97</th>\n",
              "      <td>Sub-Saharan Africa</td>\n",
              "      <td>Sierra Leone</td>\n",
              "      <td>Vegetables</td>\n",
              "      <td>Offline</td>\n",
              "      <td>C</td>\n",
              "      <td>2016-06-01</td>\n",
              "      <td>728815257</td>\n",
              "      <td>2016-06-29</td>\n",
              "      <td>1485</td>\n",
              "      <td>154.06</td>\n",
              "      <td>90.93</td>\n",
              "      <td>228779.10</td>\n",
              "      <td>135031.05</td>\n",
              "      <td>93748.05</td>\n",
              "      <td>2016</td>\n",
              "      <td>6</td>\n",
              "      <td>1</td>\n",
              "      <td>2016-6</td>\n",
              "      <td>40.977541</td>\n",
              "    </tr>\n",
              "    <tr>\n",
              "      <th>98</th>\n",
              "      <td>North America</td>\n",
              "      <td>Mexico</td>\n",
              "      <td>Personal Care</td>\n",
              "      <td>Offline</td>\n",
              "      <td>M</td>\n",
              "      <td>2015-07-30</td>\n",
              "      <td>559427106</td>\n",
              "      <td>2015-08-08</td>\n",
              "      <td>5767</td>\n",
              "      <td>81.73</td>\n",
              "      <td>56.67</td>\n",
              "      <td>471336.91</td>\n",
              "      <td>326815.89</td>\n",
              "      <td>144521.02</td>\n",
              "      <td>2015</td>\n",
              "      <td>7</td>\n",
              "      <td>30</td>\n",
              "      <td>2015-7</td>\n",
              "      <td>30.661936</td>\n",
              "    </tr>\n",
              "    <tr>\n",
              "      <th>99</th>\n",
              "      <td>Sub-Saharan Africa</td>\n",
              "      <td>Mozambique</td>\n",
              "      <td>Household</td>\n",
              "      <td>Offline</td>\n",
              "      <td>L</td>\n",
              "      <td>2012-02-10</td>\n",
              "      <td>665095412</td>\n",
              "      <td>2012-02-15</td>\n",
              "      <td>5367</td>\n",
              "      <td>668.27</td>\n",
              "      <td>502.54</td>\n",
              "      <td>3586605.09</td>\n",
              "      <td>2697132.18</td>\n",
              "      <td>889472.91</td>\n",
              "      <td>2012</td>\n",
              "      <td>2</td>\n",
              "      <td>10</td>\n",
              "      <td>2012-2</td>\n",
              "      <td>24.799856</td>\n",
              "    </tr>\n",
              "  </tbody>\n",
              "</table>\n",
              "<p>100 rows × 19 columns</p>\n",
              "</div>\n",
              "    <div class=\"colab-df-buttons\">\n",
              "\n",
              "  <div class=\"colab-df-container\">\n",
              "    <button class=\"colab-df-convert\" onclick=\"convertToInteractive('df-53656bc2-c38b-431d-967c-155fd9a95885')\"\n",
              "            title=\"Convert this dataframe to an interactive table.\"\n",
              "            style=\"display:none;\">\n",
              "\n",
              "  <svg xmlns=\"http://www.w3.org/2000/svg\" height=\"24px\" viewBox=\"0 -960 960 960\">\n",
              "    <path d=\"M120-120v-720h720v720H120Zm60-500h600v-160H180v160Zm220 220h160v-160H400v160Zm0 220h160v-160H400v160ZM180-400h160v-160H180v160Zm440 0h160v-160H620v160ZM180-180h160v-160H180v160Zm440 0h160v-160H620v160Z\"/>\n",
              "  </svg>\n",
              "    </button>\n",
              "\n",
              "  <style>\n",
              "    .colab-df-container {\n",
              "      display:flex;\n",
              "      gap: 12px;\n",
              "    }\n",
              "\n",
              "    .colab-df-convert {\n",
              "      background-color: #E8F0FE;\n",
              "      border: none;\n",
              "      border-radius: 50%;\n",
              "      cursor: pointer;\n",
              "      display: none;\n",
              "      fill: #1967D2;\n",
              "      height: 32px;\n",
              "      padding: 0 0 0 0;\n",
              "      width: 32px;\n",
              "    }\n",
              "\n",
              "    .colab-df-convert:hover {\n",
              "      background-color: #E2EBFA;\n",
              "      box-shadow: 0px 1px 2px rgba(60, 64, 67, 0.3), 0px 1px 3px 1px rgba(60, 64, 67, 0.15);\n",
              "      fill: #174EA6;\n",
              "    }\n",
              "\n",
              "    .colab-df-buttons div {\n",
              "      margin-bottom: 4px;\n",
              "    }\n",
              "\n",
              "    [theme=dark] .colab-df-convert {\n",
              "      background-color: #3B4455;\n",
              "      fill: #D2E3FC;\n",
              "    }\n",
              "\n",
              "    [theme=dark] .colab-df-convert:hover {\n",
              "      background-color: #434B5C;\n",
              "      box-shadow: 0px 1px 3px 1px rgba(0, 0, 0, 0.15);\n",
              "      filter: drop-shadow(0px 1px 2px rgba(0, 0, 0, 0.3));\n",
              "      fill: #FFFFFF;\n",
              "    }\n",
              "  </style>\n",
              "\n",
              "    <script>\n",
              "      const buttonEl =\n",
              "        document.querySelector('#df-53656bc2-c38b-431d-967c-155fd9a95885 button.colab-df-convert');\n",
              "      buttonEl.style.display =\n",
              "        google.colab.kernel.accessAllowed ? 'block' : 'none';\n",
              "\n",
              "      async function convertToInteractive(key) {\n",
              "        const element = document.querySelector('#df-53656bc2-c38b-431d-967c-155fd9a95885');\n",
              "        const dataTable =\n",
              "          await google.colab.kernel.invokeFunction('convertToInteractive',\n",
              "                                                    [key], {});\n",
              "        if (!dataTable) return;\n",
              "\n",
              "        const docLinkHtml = 'Like what you see? Visit the ' +\n",
              "          '<a target=\"_blank\" href=https://colab.research.google.com/notebooks/data_table.ipynb>data table notebook</a>'\n",
              "          + ' to learn more about interactive tables.';\n",
              "        element.innerHTML = '';\n",
              "        dataTable['output_type'] = 'display_data';\n",
              "        await google.colab.output.renderOutput(dataTable, element);\n",
              "        const docLink = document.createElement('div');\n",
              "        docLink.innerHTML = docLinkHtml;\n",
              "        element.appendChild(docLink);\n",
              "      }\n",
              "    </script>\n",
              "  </div>\n",
              "\n",
              "\n",
              "<div id=\"df-a1b4407e-ee3e-45e7-82b1-ff5674f2bf9a\">\n",
              "  <button class=\"colab-df-quickchart\" onclick=\"quickchart('df-a1b4407e-ee3e-45e7-82b1-ff5674f2bf9a')\"\n",
              "            title=\"Suggest charts\"\n",
              "            style=\"display:none;\">\n",
              "\n",
              "<svg xmlns=\"http://www.w3.org/2000/svg\" height=\"24px\"viewBox=\"0 0 24 24\"\n",
              "     width=\"24px\">\n",
              "    <g>\n",
              "        <path d=\"M19 3H5c-1.1 0-2 .9-2 2v14c0 1.1.9 2 2 2h14c1.1 0 2-.9 2-2V5c0-1.1-.9-2-2-2zM9 17H7v-7h2v7zm4 0h-2V7h2v10zm4 0h-2v-4h2v4z\"/>\n",
              "    </g>\n",
              "</svg>\n",
              "  </button>\n",
              "\n",
              "<style>\n",
              "  .colab-df-quickchart {\n",
              "      --bg-color: #E8F0FE;\n",
              "      --fill-color: #1967D2;\n",
              "      --hover-bg-color: #E2EBFA;\n",
              "      --hover-fill-color: #174EA6;\n",
              "      --disabled-fill-color: #AAA;\n",
              "      --disabled-bg-color: #DDD;\n",
              "  }\n",
              "\n",
              "  [theme=dark] .colab-df-quickchart {\n",
              "      --bg-color: #3B4455;\n",
              "      --fill-color: #D2E3FC;\n",
              "      --hover-bg-color: #434B5C;\n",
              "      --hover-fill-color: #FFFFFF;\n",
              "      --disabled-bg-color: #3B4455;\n",
              "      --disabled-fill-color: #666;\n",
              "  }\n",
              "\n",
              "  .colab-df-quickchart {\n",
              "    background-color: var(--bg-color);\n",
              "    border: none;\n",
              "    border-radius: 50%;\n",
              "    cursor: pointer;\n",
              "    display: none;\n",
              "    fill: var(--fill-color);\n",
              "    height: 32px;\n",
              "    padding: 0;\n",
              "    width: 32px;\n",
              "  }\n",
              "\n",
              "  .colab-df-quickchart:hover {\n",
              "    background-color: var(--hover-bg-color);\n",
              "    box-shadow: 0 1px 2px rgba(60, 64, 67, 0.3), 0 1px 3px 1px rgba(60, 64, 67, 0.15);\n",
              "    fill: var(--button-hover-fill-color);\n",
              "  }\n",
              "\n",
              "  .colab-df-quickchart-complete:disabled,\n",
              "  .colab-df-quickchart-complete:disabled:hover {\n",
              "    background-color: var(--disabled-bg-color);\n",
              "    fill: var(--disabled-fill-color);\n",
              "    box-shadow: none;\n",
              "  }\n",
              "\n",
              "  .colab-df-spinner {\n",
              "    border: 2px solid var(--fill-color);\n",
              "    border-color: transparent;\n",
              "    border-bottom-color: var(--fill-color);\n",
              "    animation:\n",
              "      spin 1s steps(1) infinite;\n",
              "  }\n",
              "\n",
              "  @keyframes spin {\n",
              "    0% {\n",
              "      border-color: transparent;\n",
              "      border-bottom-color: var(--fill-color);\n",
              "      border-left-color: var(--fill-color);\n",
              "    }\n",
              "    20% {\n",
              "      border-color: transparent;\n",
              "      border-left-color: var(--fill-color);\n",
              "      border-top-color: var(--fill-color);\n",
              "    }\n",
              "    30% {\n",
              "      border-color: transparent;\n",
              "      border-left-color: var(--fill-color);\n",
              "      border-top-color: var(--fill-color);\n",
              "      border-right-color: var(--fill-color);\n",
              "    }\n",
              "    40% {\n",
              "      border-color: transparent;\n",
              "      border-right-color: var(--fill-color);\n",
              "      border-top-color: var(--fill-color);\n",
              "    }\n",
              "    60% {\n",
              "      border-color: transparent;\n",
              "      border-right-color: var(--fill-color);\n",
              "    }\n",
              "    80% {\n",
              "      border-color: transparent;\n",
              "      border-right-color: var(--fill-color);\n",
              "      border-bottom-color: var(--fill-color);\n",
              "    }\n",
              "    90% {\n",
              "      border-color: transparent;\n",
              "      border-bottom-color: var(--fill-color);\n",
              "    }\n",
              "  }\n",
              "</style>\n",
              "\n",
              "  <script>\n",
              "    async function quickchart(key) {\n",
              "      const quickchartButtonEl =\n",
              "        document.querySelector('#' + key + ' button');\n",
              "      quickchartButtonEl.disabled = true;  // To prevent multiple clicks.\n",
              "      quickchartButtonEl.classList.add('colab-df-spinner');\n",
              "      try {\n",
              "        const charts = await google.colab.kernel.invokeFunction(\n",
              "            'suggestCharts', [key], {});\n",
              "      } catch (error) {\n",
              "        console.error('Error during call to suggestCharts:', error);\n",
              "      }\n",
              "      quickchartButtonEl.classList.remove('colab-df-spinner');\n",
              "      quickchartButtonEl.classList.add('colab-df-quickchart-complete');\n",
              "    }\n",
              "    (() => {\n",
              "      let quickchartButtonEl =\n",
              "        document.querySelector('#df-a1b4407e-ee3e-45e7-82b1-ff5674f2bf9a button');\n",
              "      quickchartButtonEl.style.display =\n",
              "        google.colab.kernel.accessAllowed ? 'block' : 'none';\n",
              "    })();\n",
              "  </script>\n",
              "</div>\n",
              "\n",
              "  <div id=\"id_51343db6-94e6-4007-849f-a18299af7c21\">\n",
              "    <style>\n",
              "      .colab-df-generate {\n",
              "        background-color: #E8F0FE;\n",
              "        border: none;\n",
              "        border-radius: 50%;\n",
              "        cursor: pointer;\n",
              "        display: none;\n",
              "        fill: #1967D2;\n",
              "        height: 32px;\n",
              "        padding: 0 0 0 0;\n",
              "        width: 32px;\n",
              "      }\n",
              "\n",
              "      .colab-df-generate:hover {\n",
              "        background-color: #E2EBFA;\n",
              "        box-shadow: 0px 1px 2px rgba(60, 64, 67, 0.3), 0px 1px 3px 1px rgba(60, 64, 67, 0.15);\n",
              "        fill: #174EA6;\n",
              "      }\n",
              "\n",
              "      [theme=dark] .colab-df-generate {\n",
              "        background-color: #3B4455;\n",
              "        fill: #D2E3FC;\n",
              "      }\n",
              "\n",
              "      [theme=dark] .colab-df-generate:hover {\n",
              "        background-color: #434B5C;\n",
              "        box-shadow: 0px 1px 3px 1px rgba(0, 0, 0, 0.15);\n",
              "        filter: drop-shadow(0px 1px 2px rgba(0, 0, 0, 0.3));\n",
              "        fill: #FFFFFF;\n",
              "      }\n",
              "    </style>\n",
              "    <button class=\"colab-df-generate\" onclick=\"generateWithVariable('data')\"\n",
              "            title=\"Generate code using this dataframe.\"\n",
              "            style=\"display:none;\">\n",
              "\n",
              "  <svg xmlns=\"http://www.w3.org/2000/svg\" height=\"24px\"viewBox=\"0 0 24 24\"\n",
              "       width=\"24px\">\n",
              "    <path d=\"M7,19H8.4L18.45,9,17,7.55,7,17.6ZM5,21V16.75L18.45,3.32a2,2,0,0,1,2.83,0l1.4,1.43a1.91,1.91,0,0,1,.58,1.4,1.91,1.91,0,0,1-.58,1.4L9.25,21ZM18.45,9,17,7.55Zm-12,3A5.31,5.31,0,0,0,4.9,8.1,5.31,5.31,0,0,0,1,6.5,5.31,5.31,0,0,0,4.9,4.9,5.31,5.31,0,0,0,6.5,1,5.31,5.31,0,0,0,8.1,4.9,5.31,5.31,0,0,0,12,6.5,5.46,5.46,0,0,0,6.5,12Z\"/>\n",
              "  </svg>\n",
              "    </button>\n",
              "    <script>\n",
              "      (() => {\n",
              "      const buttonEl =\n",
              "        document.querySelector('#id_51343db6-94e6-4007-849f-a18299af7c21 button.colab-df-generate');\n",
              "      buttonEl.style.display =\n",
              "        google.colab.kernel.accessAllowed ? 'block' : 'none';\n",
              "\n",
              "      buttonEl.onclick = () => {\n",
              "        google.colab.notebook.generateWithVariable('data');\n",
              "      }\n",
              "      })();\n",
              "    </script>\n",
              "  </div>\n",
              "\n",
              "    </div>\n",
              "  </div>\n"
            ],
            "application/vnd.google.colaboratory.intrinsic+json": {
              "type": "dataframe",
              "variable_name": "data",
              "summary": "{\n  \"name\": \"data\",\n  \"rows\": 100,\n  \"fields\": [\n    {\n      \"column\": \"Region\",\n      \"properties\": {\n        \"dtype\": \"category\",\n        \"num_unique_values\": 7,\n        \"samples\": [\n          \"Australia and Oceania\",\n          \"Central America and the Caribbean\",\n          \"Middle East and North Africa\"\n        ],\n        \"semantic_type\": \"\",\n        \"description\": \"\"\n      }\n    },\n    {\n      \"column\": \"Country\",\n      \"properties\": {\n        \"dtype\": \"string\",\n        \"num_unique_values\": 76,\n        \"samples\": [\n          \"Rwanda\",\n          \"Brunei\",\n          \"Kyrgyzstan\"\n        ],\n        \"semantic_type\": \"\",\n        \"description\": \"\"\n      }\n    },\n    {\n      \"column\": \"Item Type\",\n      \"properties\": {\n        \"dtype\": \"category\",\n        \"num_unique_values\": 12,\n        \"samples\": [\n          \"Meat\",\n          \"Beverages\",\n          \"Baby Food\"\n        ],\n        \"semantic_type\": \"\",\n        \"description\": \"\"\n      }\n    },\n    {\n      \"column\": \"Sales Channel\",\n      \"properties\": {\n        \"dtype\": \"category\",\n        \"num_unique_values\": 2,\n        \"samples\": [\n          \"Online\",\n          \"Offline\"\n        ],\n        \"semantic_type\": \"\",\n        \"description\": \"\"\n      }\n    },\n    {\n      \"column\": \"Order Priority\",\n      \"properties\": {\n        \"dtype\": \"category\",\n        \"num_unique_values\": 4,\n        \"samples\": [\n          \"C\",\n          \"M\"\n        ],\n        \"semantic_type\": \"\",\n        \"description\": \"\"\n      }\n    },\n    {\n      \"column\": \"Order Date\",\n      \"properties\": {\n        \"dtype\": \"date\",\n        \"min\": \"2010-02-02 00:00:00\",\n        \"max\": \"2017-05-22 00:00:00\",\n        \"num_unique_values\": 100,\n        \"samples\": [\n          \"2011-01-04 00:00:00\",\n          \"2011-11-26 00:00:00\"\n        ],\n        \"semantic_type\": \"\",\n        \"description\": \"\"\n      }\n    },\n    {\n      \"column\": \"Order ID\",\n      \"properties\": {\n        \"dtype\": \"number\",\n        \"std\": 260615257,\n        \"min\": 114606559,\n        \"max\": 994022214,\n        \"num_unique_values\": 100,\n        \"samples\": [\n          122583663,\n          441888415\n        ],\n        \"semantic_type\": \"\",\n        \"description\": \"\"\n      }\n    },\n    {\n      \"column\": \"Ship Date\",\n      \"properties\": {\n        \"dtype\": \"date\",\n        \"min\": \"2010-02-25 00:00:00\",\n        \"max\": \"2017-06-17 00:00:00\",\n        \"num_unique_values\": 99,\n        \"samples\": [\n          \"2011-11-15 00:00:00\",\n          \"2017-03-28 00:00:00\"\n        ],\n        \"semantic_type\": \"\",\n        \"description\": \"\"\n      }\n    },\n    {\n      \"column\": \"Units Sold\",\n      \"properties\": {\n        \"dtype\": \"number\",\n        \"std\": 2794,\n        \"min\": 124,\n        \"max\": 9925,\n        \"num_unique_values\": 99,\n        \"samples\": [\n          5518,\n          3015\n        ],\n        \"semantic_type\": \"\",\n        \"description\": \"\"\n      }\n    },\n    {\n      \"column\": \"Unit Price\",\n      \"properties\": {\n        \"dtype\": \"number\",\n        \"std\": 235.59224058433128,\n        \"min\": 9.33,\n        \"max\": 668.27,\n        \"num_unique_values\": 12,\n        \"samples\": [\n          421.89,\n          47.45\n        ],\n        \"semantic_type\": \"\",\n        \"description\": \"\"\n      }\n    },\n    {\n      \"column\": \"Unit Cost\",\n      \"properties\": {\n        \"dtype\": \"number\",\n        \"std\": 188.20818124855495,\n        \"min\": 6.92,\n        \"max\": 524.96,\n        \"num_unique_values\": 12,\n        \"samples\": [\n          364.69,\n          31.79\n        ],\n        \"semantic_type\": \"\",\n        \"description\": \"\"\n      }\n    },\n    {\n      \"column\": \"Total Revenue\",\n      \"properties\": {\n        \"dtype\": \"number\",\n        \"std\": 1460028.7068235006,\n        \"min\": 4870.26,\n        \"max\": 5997054.98,\n        \"num_unique_values\": 100,\n        \"samples\": [\n          623289.3,\n          2251232.97\n        ],\n        \"semantic_type\": \"\",\n        \"description\": \"\"\n      }\n    },\n    {\n      \"column\": \"Total Cost\",\n      \"properties\": {\n        \"dtype\": \"number\",\n        \"std\": 1083938.2521883622,\n        \"min\": 3612.24,\n        \"max\": 4509793.96,\n        \"num_unique_values\": 100,\n        \"samples\": [\n          398042.4,\n          1814786.72\n        ],\n        \"semantic_type\": \"\",\n        \"description\": \"\"\n      }\n    },\n    {\n      \"column\": \"Total Profit\",\n      \"properties\": {\n        \"dtype\": \"number\",\n        \"std\": 438537.90705963754,\n        \"min\": 1258.02,\n        \"max\": 1719922.04,\n        \"num_unique_values\": 100,\n        \"samples\": [\n          225246.9,\n          436446.25\n        ],\n        \"semantic_type\": \"\",\n        \"description\": \"\"\n      }\n    },\n    {\n      \"column\": \"Year\",\n      \"properties\": {\n        \"dtype\": \"int32\",\n        \"num_unique_values\": 8,\n        \"samples\": [\n          2012,\n          2011\n        ],\n        \"semantic_type\": \"\",\n        \"description\": \"\"\n      }\n    },\n    {\n      \"column\": \"Month\",\n      \"properties\": {\n        \"dtype\": \"int32\",\n        \"num_unique_values\": 12,\n        \"samples\": [\n          10,\n          9\n        ],\n        \"semantic_type\": \"\",\n        \"description\": \"\"\n      }\n    },\n    {\n      \"column\": \"Day\",\n      \"properties\": {\n        \"dtype\": \"int32\",\n        \"num_unique_values\": 30,\n        \"samples\": [\n          21,\n          31\n        ],\n        \"semantic_type\": \"\",\n        \"description\": \"\"\n      }\n    },\n    {\n      \"column\": \"Year_month\",\n      \"properties\": {\n        \"dtype\": \"object\",\n        \"num_unique_values\": 60,\n        \"samples\": [\n          \"2010-5\",\n          \"2015-2\"\n        ],\n        \"semantic_type\": \"\",\n        \"description\": \"\"\n      }\n    },\n    {\n      \"column\": \"Gross Profit Margin\",\n      \"properties\": {\n        \"dtype\": \"number\",\n        \"std\": 14.281476858612256,\n        \"min\": 13.558036455000117,\n        \"max\": 67.20351390922403,\n        \"num_unique_values\": 27,\n        \"samples\": [\n          40.97754121770739,\n          13.558036455000117\n        ],\n        \"semantic_type\": \"\",\n        \"description\": \"\"\n      }\n    }\n  ]\n}"
            }
          },
          "metadata": {},
          "execution_count": 41
        }
      ]
    },
    {
      "cell_type": "markdown",
      "source": [
        "THE LEAST AND MAXIMUM PROFIT FROM THE SALES"
      ],
      "metadata": {
        "id": "M_Y4A2jNuHUX"
      }
    },
    {
      "cell_type": "code",
      "source": [
        "min_profit = data['Gross Profit Margin'].min()\n",
        "print(\"The Least Profit got is:“,round(min_profit,2\")\n",
        "max_profit = data['Gross Profit Margin'].max()\n",
        "print(\"The Most Profit got is:“,round(max_profit,2\")"
      ],
      "metadata": {
        "colab": {
          "base_uri": "https://localhost:8080/"
        },
        "id": "TfWpIEQhuJAU",
        "outputId": "a45b635e-6f22-4d40-87a5-33f91aecf39a"
      },
      "execution_count": 43,
      "outputs": [
        {
          "output_type": "stream",
          "name": "stdout",
          "text": [
            "The Least Profit got is:“,round(min_profit,2\n",
            "The Most Profit got is:“,round(max_profit,2\n"
          ]
        }
      ]
    },
    {
      "cell_type": "markdown",
      "source": [
        "TIME TAKEN (IN DAYS) FOR DELIVERY"
      ],
      "metadata": {
        "id": "SL1f50yCuXAB"
      }
    },
    {
      "cell_type": "code",
      "source": [
        "data['Delivery Time']=(data['Ship Date']-data['Order Date']).dt.days\n",
        "print('The Average Delivery Time taken is:',round(data['Delivery Time'].mean(),2),'days.')"
      ],
      "metadata": {
        "colab": {
          "base_uri": "https://localhost:8080/"
        },
        "id": "GCkZb1m_uSJ1",
        "outputId": "24b010d0-7f24-4b69-cdde-051ff39b5991"
      },
      "execution_count": 45,
      "outputs": [
        {
          "output_type": "stream",
          "name": "stdout",
          "text": [
            "The Average Delivery Time taken is: 23.36 days.\n"
          ]
        }
      ]
    },
    {
      "cell_type": "markdown",
      "source": [
        "LEAST AND MOST TIME TAKEN FOR DELIVERY"
      ],
      "metadata": {
        "id": "qw3c5Fy2u2Qi"
      }
    },
    {
      "cell_type": "code",
      "source": [
        "print(\"The least time taken for delivery is:\",data['Delivery Time'].min())\n",
        "print(\"The most time taken for delivery is:\",data['Delivery Time'].max())"
      ],
      "metadata": {
        "colab": {
          "base_uri": "https://localhost:8080/"
        },
        "id": "Q967ky7XuzdE",
        "outputId": "56bd8229-c98e-406d-9835-5215087b6128"
      },
      "execution_count": 46,
      "outputs": [
        {
          "output_type": "stream",
          "name": "stdout",
          "text": [
            "The least time taken for delivery is: 0\n",
            "The most time taken for delivery is: 50\n"
          ]
        }
      ]
    },
    {
      "cell_type": "markdown",
      "source": [
        "\n",
        "CORRELATION MATRIX OF THE DATA\n"
      ],
      "metadata": {
        "id": "CWQI9Hmmwomh"
      }
    },
    {
      "cell_type": "code",
      "source": [
        "numeric_data = data.select_dtypes(include=['float64', 'int64'])\n",
        "correlation = numeric_data.corr()\n",
        "correlation"
      ],
      "metadata": {
        "colab": {
          "base_uri": "https://localhost:8080/",
          "height": 331
        },
        "id": "l35REKAWwpTd",
        "outputId": "fce6359f-109c-48d9-e371-882f8f8d1011"
      },
      "execution_count": 55,
      "outputs": [
        {
          "output_type": "execute_result",
          "data": {
            "text/plain": [
              "                     Order ID  Units Sold  Unit Price  Unit Cost  \\\n",
              "Order ID             1.000000   -0.222907   -0.190941  -0.213201   \n",
              "Units Sold          -0.222907    1.000000   -0.070486  -0.092232   \n",
              "Unit Price          -0.190941   -0.070486    1.000000   0.987270   \n",
              "Unit Cost           -0.213201   -0.092232    0.987270   1.000000   \n",
              "Total Revenue       -0.314688    0.447784    0.752360   0.715623   \n",
              "Total Cost          -0.328944    0.374746    0.787905   0.774895   \n",
              "Total Profit        -0.234638    0.564550    0.557365   0.467214   \n",
              "Gross Profit Margin  0.186907    0.080699   -0.435504  -0.535481   \n",
              "Delivery Time        0.100415   -0.050720   -0.063159  -0.076085   \n",
              "\n",
              "                     Total Revenue  Total Cost  Total Profit  \\\n",
              "Order ID                 -0.314688   -0.328944     -0.234638   \n",
              "Units Sold                0.447784    0.374746      0.564550   \n",
              "Unit Price                0.752360    0.787905      0.557365   \n",
              "Unit Cost                 0.715623    0.774895      0.467214   \n",
              "Total Revenue             1.000000    0.983928      0.897327   \n",
              "Total Cost                0.983928    1.000000      0.804091   \n",
              "Total Profit              0.897327    0.804091      1.000000   \n",
              "Gross Profit Margin      -0.269731   -0.384076      0.051306   \n",
              "Delivery Time            -0.022288   -0.033098      0.007608   \n",
              "\n",
              "                     Gross Profit Margin  Delivery Time  \n",
              "Order ID                        0.186907       0.100415  \n",
              "Units Sold                      0.080699      -0.050720  \n",
              "Unit Price                     -0.435504      -0.063159  \n",
              "Unit Cost                      -0.535481      -0.076085  \n",
              "Total Revenue                  -0.269731      -0.022288  \n",
              "Total Cost                     -0.384076      -0.033098  \n",
              "Total Profit                    0.051306       0.007608  \n",
              "Gross Profit Margin             1.000000       0.152316  \n",
              "Delivery Time                   0.152316       1.000000  "
            ],
            "text/html": [
              "\n",
              "  <div id=\"df-cd9ffd6c-d2d3-47de-9bb5-ec54fbb73b37\" class=\"colab-df-container\">\n",
              "    <div>\n",
              "<style scoped>\n",
              "    .dataframe tbody tr th:only-of-type {\n",
              "        vertical-align: middle;\n",
              "    }\n",
              "\n",
              "    .dataframe tbody tr th {\n",
              "        vertical-align: top;\n",
              "    }\n",
              "\n",
              "    .dataframe thead th {\n",
              "        text-align: right;\n",
              "    }\n",
              "</style>\n",
              "<table border=\"1\" class=\"dataframe\">\n",
              "  <thead>\n",
              "    <tr style=\"text-align: right;\">\n",
              "      <th></th>\n",
              "      <th>Order ID</th>\n",
              "      <th>Units Sold</th>\n",
              "      <th>Unit Price</th>\n",
              "      <th>Unit Cost</th>\n",
              "      <th>Total Revenue</th>\n",
              "      <th>Total Cost</th>\n",
              "      <th>Total Profit</th>\n",
              "      <th>Gross Profit Margin</th>\n",
              "      <th>Delivery Time</th>\n",
              "    </tr>\n",
              "  </thead>\n",
              "  <tbody>\n",
              "    <tr>\n",
              "      <th>Order ID</th>\n",
              "      <td>1.000000</td>\n",
              "      <td>-0.222907</td>\n",
              "      <td>-0.190941</td>\n",
              "      <td>-0.213201</td>\n",
              "      <td>-0.314688</td>\n",
              "      <td>-0.328944</td>\n",
              "      <td>-0.234638</td>\n",
              "      <td>0.186907</td>\n",
              "      <td>0.100415</td>\n",
              "    </tr>\n",
              "    <tr>\n",
              "      <th>Units Sold</th>\n",
              "      <td>-0.222907</td>\n",
              "      <td>1.000000</td>\n",
              "      <td>-0.070486</td>\n",
              "      <td>-0.092232</td>\n",
              "      <td>0.447784</td>\n",
              "      <td>0.374746</td>\n",
              "      <td>0.564550</td>\n",
              "      <td>0.080699</td>\n",
              "      <td>-0.050720</td>\n",
              "    </tr>\n",
              "    <tr>\n",
              "      <th>Unit Price</th>\n",
              "      <td>-0.190941</td>\n",
              "      <td>-0.070486</td>\n",
              "      <td>1.000000</td>\n",
              "      <td>0.987270</td>\n",
              "      <td>0.752360</td>\n",
              "      <td>0.787905</td>\n",
              "      <td>0.557365</td>\n",
              "      <td>-0.435504</td>\n",
              "      <td>-0.063159</td>\n",
              "    </tr>\n",
              "    <tr>\n",
              "      <th>Unit Cost</th>\n",
              "      <td>-0.213201</td>\n",
              "      <td>-0.092232</td>\n",
              "      <td>0.987270</td>\n",
              "      <td>1.000000</td>\n",
              "      <td>0.715623</td>\n",
              "      <td>0.774895</td>\n",
              "      <td>0.467214</td>\n",
              "      <td>-0.535481</td>\n",
              "      <td>-0.076085</td>\n",
              "    </tr>\n",
              "    <tr>\n",
              "      <th>Total Revenue</th>\n",
              "      <td>-0.314688</td>\n",
              "      <td>0.447784</td>\n",
              "      <td>0.752360</td>\n",
              "      <td>0.715623</td>\n",
              "      <td>1.000000</td>\n",
              "      <td>0.983928</td>\n",
              "      <td>0.897327</td>\n",
              "      <td>-0.269731</td>\n",
              "      <td>-0.022288</td>\n",
              "    </tr>\n",
              "    <tr>\n",
              "      <th>Total Cost</th>\n",
              "      <td>-0.328944</td>\n",
              "      <td>0.374746</td>\n",
              "      <td>0.787905</td>\n",
              "      <td>0.774895</td>\n",
              "      <td>0.983928</td>\n",
              "      <td>1.000000</td>\n",
              "      <td>0.804091</td>\n",
              "      <td>-0.384076</td>\n",
              "      <td>-0.033098</td>\n",
              "    </tr>\n",
              "    <tr>\n",
              "      <th>Total Profit</th>\n",
              "      <td>-0.234638</td>\n",
              "      <td>0.564550</td>\n",
              "      <td>0.557365</td>\n",
              "      <td>0.467214</td>\n",
              "      <td>0.897327</td>\n",
              "      <td>0.804091</td>\n",
              "      <td>1.000000</td>\n",
              "      <td>0.051306</td>\n",
              "      <td>0.007608</td>\n",
              "    </tr>\n",
              "    <tr>\n",
              "      <th>Gross Profit Margin</th>\n",
              "      <td>0.186907</td>\n",
              "      <td>0.080699</td>\n",
              "      <td>-0.435504</td>\n",
              "      <td>-0.535481</td>\n",
              "      <td>-0.269731</td>\n",
              "      <td>-0.384076</td>\n",
              "      <td>0.051306</td>\n",
              "      <td>1.000000</td>\n",
              "      <td>0.152316</td>\n",
              "    </tr>\n",
              "    <tr>\n",
              "      <th>Delivery Time</th>\n",
              "      <td>0.100415</td>\n",
              "      <td>-0.050720</td>\n",
              "      <td>-0.063159</td>\n",
              "      <td>-0.076085</td>\n",
              "      <td>-0.022288</td>\n",
              "      <td>-0.033098</td>\n",
              "      <td>0.007608</td>\n",
              "      <td>0.152316</td>\n",
              "      <td>1.000000</td>\n",
              "    </tr>\n",
              "  </tbody>\n",
              "</table>\n",
              "</div>\n",
              "    <div class=\"colab-df-buttons\">\n",
              "\n",
              "  <div class=\"colab-df-container\">\n",
              "    <button class=\"colab-df-convert\" onclick=\"convertToInteractive('df-cd9ffd6c-d2d3-47de-9bb5-ec54fbb73b37')\"\n",
              "            title=\"Convert this dataframe to an interactive table.\"\n",
              "            style=\"display:none;\">\n",
              "\n",
              "  <svg xmlns=\"http://www.w3.org/2000/svg\" height=\"24px\" viewBox=\"0 -960 960 960\">\n",
              "    <path d=\"M120-120v-720h720v720H120Zm60-500h600v-160H180v160Zm220 220h160v-160H400v160Zm0 220h160v-160H400v160ZM180-400h160v-160H180v160Zm440 0h160v-160H620v160ZM180-180h160v-160H180v160Zm440 0h160v-160H620v160Z\"/>\n",
              "  </svg>\n",
              "    </button>\n",
              "\n",
              "  <style>\n",
              "    .colab-df-container {\n",
              "      display:flex;\n",
              "      gap: 12px;\n",
              "    }\n",
              "\n",
              "    .colab-df-convert {\n",
              "      background-color: #E8F0FE;\n",
              "      border: none;\n",
              "      border-radius: 50%;\n",
              "      cursor: pointer;\n",
              "      display: none;\n",
              "      fill: #1967D2;\n",
              "      height: 32px;\n",
              "      padding: 0 0 0 0;\n",
              "      width: 32px;\n",
              "    }\n",
              "\n",
              "    .colab-df-convert:hover {\n",
              "      background-color: #E2EBFA;\n",
              "      box-shadow: 0px 1px 2px rgba(60, 64, 67, 0.3), 0px 1px 3px 1px rgba(60, 64, 67, 0.15);\n",
              "      fill: #174EA6;\n",
              "    }\n",
              "\n",
              "    .colab-df-buttons div {\n",
              "      margin-bottom: 4px;\n",
              "    }\n",
              "\n",
              "    [theme=dark] .colab-df-convert {\n",
              "      background-color: #3B4455;\n",
              "      fill: #D2E3FC;\n",
              "    }\n",
              "\n",
              "    [theme=dark] .colab-df-convert:hover {\n",
              "      background-color: #434B5C;\n",
              "      box-shadow: 0px 1px 3px 1px rgba(0, 0, 0, 0.15);\n",
              "      filter: drop-shadow(0px 1px 2px rgba(0, 0, 0, 0.3));\n",
              "      fill: #FFFFFF;\n",
              "    }\n",
              "  </style>\n",
              "\n",
              "    <script>\n",
              "      const buttonEl =\n",
              "        document.querySelector('#df-cd9ffd6c-d2d3-47de-9bb5-ec54fbb73b37 button.colab-df-convert');\n",
              "      buttonEl.style.display =\n",
              "        google.colab.kernel.accessAllowed ? 'block' : 'none';\n",
              "\n",
              "      async function convertToInteractive(key) {\n",
              "        const element = document.querySelector('#df-cd9ffd6c-d2d3-47de-9bb5-ec54fbb73b37');\n",
              "        const dataTable =\n",
              "          await google.colab.kernel.invokeFunction('convertToInteractive',\n",
              "                                                    [key], {});\n",
              "        if (!dataTable) return;\n",
              "\n",
              "        const docLinkHtml = 'Like what you see? Visit the ' +\n",
              "          '<a target=\"_blank\" href=https://colab.research.google.com/notebooks/data_table.ipynb>data table notebook</a>'\n",
              "          + ' to learn more about interactive tables.';\n",
              "        element.innerHTML = '';\n",
              "        dataTable['output_type'] = 'display_data';\n",
              "        await google.colab.output.renderOutput(dataTable, element);\n",
              "        const docLink = document.createElement('div');\n",
              "        docLink.innerHTML = docLinkHtml;\n",
              "        element.appendChild(docLink);\n",
              "      }\n",
              "    </script>\n",
              "  </div>\n",
              "\n",
              "\n",
              "<div id=\"df-7f065318-cb40-4759-8e6b-ab59adc03998\">\n",
              "  <button class=\"colab-df-quickchart\" onclick=\"quickchart('df-7f065318-cb40-4759-8e6b-ab59adc03998')\"\n",
              "            title=\"Suggest charts\"\n",
              "            style=\"display:none;\">\n",
              "\n",
              "<svg xmlns=\"http://www.w3.org/2000/svg\" height=\"24px\"viewBox=\"0 0 24 24\"\n",
              "     width=\"24px\">\n",
              "    <g>\n",
              "        <path d=\"M19 3H5c-1.1 0-2 .9-2 2v14c0 1.1.9 2 2 2h14c1.1 0 2-.9 2-2V5c0-1.1-.9-2-2-2zM9 17H7v-7h2v7zm4 0h-2V7h2v10zm4 0h-2v-4h2v4z\"/>\n",
              "    </g>\n",
              "</svg>\n",
              "  </button>\n",
              "\n",
              "<style>\n",
              "  .colab-df-quickchart {\n",
              "      --bg-color: #E8F0FE;\n",
              "      --fill-color: #1967D2;\n",
              "      --hover-bg-color: #E2EBFA;\n",
              "      --hover-fill-color: #174EA6;\n",
              "      --disabled-fill-color: #AAA;\n",
              "      --disabled-bg-color: #DDD;\n",
              "  }\n",
              "\n",
              "  [theme=dark] .colab-df-quickchart {\n",
              "      --bg-color: #3B4455;\n",
              "      --fill-color: #D2E3FC;\n",
              "      --hover-bg-color: #434B5C;\n",
              "      --hover-fill-color: #FFFFFF;\n",
              "      --disabled-bg-color: #3B4455;\n",
              "      --disabled-fill-color: #666;\n",
              "  }\n",
              "\n",
              "  .colab-df-quickchart {\n",
              "    background-color: var(--bg-color);\n",
              "    border: none;\n",
              "    border-radius: 50%;\n",
              "    cursor: pointer;\n",
              "    display: none;\n",
              "    fill: var(--fill-color);\n",
              "    height: 32px;\n",
              "    padding: 0;\n",
              "    width: 32px;\n",
              "  }\n",
              "\n",
              "  .colab-df-quickchart:hover {\n",
              "    background-color: var(--hover-bg-color);\n",
              "    box-shadow: 0 1px 2px rgba(60, 64, 67, 0.3), 0 1px 3px 1px rgba(60, 64, 67, 0.15);\n",
              "    fill: var(--button-hover-fill-color);\n",
              "  }\n",
              "\n",
              "  .colab-df-quickchart-complete:disabled,\n",
              "  .colab-df-quickchart-complete:disabled:hover {\n",
              "    background-color: var(--disabled-bg-color);\n",
              "    fill: var(--disabled-fill-color);\n",
              "    box-shadow: none;\n",
              "  }\n",
              "\n",
              "  .colab-df-spinner {\n",
              "    border: 2px solid var(--fill-color);\n",
              "    border-color: transparent;\n",
              "    border-bottom-color: var(--fill-color);\n",
              "    animation:\n",
              "      spin 1s steps(1) infinite;\n",
              "  }\n",
              "\n",
              "  @keyframes spin {\n",
              "    0% {\n",
              "      border-color: transparent;\n",
              "      border-bottom-color: var(--fill-color);\n",
              "      border-left-color: var(--fill-color);\n",
              "    }\n",
              "    20% {\n",
              "      border-color: transparent;\n",
              "      border-left-color: var(--fill-color);\n",
              "      border-top-color: var(--fill-color);\n",
              "    }\n",
              "    30% {\n",
              "      border-color: transparent;\n",
              "      border-left-color: var(--fill-color);\n",
              "      border-top-color: var(--fill-color);\n",
              "      border-right-color: var(--fill-color);\n",
              "    }\n",
              "    40% {\n",
              "      border-color: transparent;\n",
              "      border-right-color: var(--fill-color);\n",
              "      border-top-color: var(--fill-color);\n",
              "    }\n",
              "    60% {\n",
              "      border-color: transparent;\n",
              "      border-right-color: var(--fill-color);\n",
              "    }\n",
              "    80% {\n",
              "      border-color: transparent;\n",
              "      border-right-color: var(--fill-color);\n",
              "      border-bottom-color: var(--fill-color);\n",
              "    }\n",
              "    90% {\n",
              "      border-color: transparent;\n",
              "      border-bottom-color: var(--fill-color);\n",
              "    }\n",
              "  }\n",
              "</style>\n",
              "\n",
              "  <script>\n",
              "    async function quickchart(key) {\n",
              "      const quickchartButtonEl =\n",
              "        document.querySelector('#' + key + ' button');\n",
              "      quickchartButtonEl.disabled = true;  // To prevent multiple clicks.\n",
              "      quickchartButtonEl.classList.add('colab-df-spinner');\n",
              "      try {\n",
              "        const charts = await google.colab.kernel.invokeFunction(\n",
              "            'suggestCharts', [key], {});\n",
              "      } catch (error) {\n",
              "        console.error('Error during call to suggestCharts:', error);\n",
              "      }\n",
              "      quickchartButtonEl.classList.remove('colab-df-spinner');\n",
              "      quickchartButtonEl.classList.add('colab-df-quickchart-complete');\n",
              "    }\n",
              "    (() => {\n",
              "      let quickchartButtonEl =\n",
              "        document.querySelector('#df-7f065318-cb40-4759-8e6b-ab59adc03998 button');\n",
              "      quickchartButtonEl.style.display =\n",
              "        google.colab.kernel.accessAllowed ? 'block' : 'none';\n",
              "    })();\n",
              "  </script>\n",
              "</div>\n",
              "\n",
              "  <div id=\"id_62ff6f92-952f-4742-aa3a-919cdf1a0924\">\n",
              "    <style>\n",
              "      .colab-df-generate {\n",
              "        background-color: #E8F0FE;\n",
              "        border: none;\n",
              "        border-radius: 50%;\n",
              "        cursor: pointer;\n",
              "        display: none;\n",
              "        fill: #1967D2;\n",
              "        height: 32px;\n",
              "        padding: 0 0 0 0;\n",
              "        width: 32px;\n",
              "      }\n",
              "\n",
              "      .colab-df-generate:hover {\n",
              "        background-color: #E2EBFA;\n",
              "        box-shadow: 0px 1px 2px rgba(60, 64, 67, 0.3), 0px 1px 3px 1px rgba(60, 64, 67, 0.15);\n",
              "        fill: #174EA6;\n",
              "      }\n",
              "\n",
              "      [theme=dark] .colab-df-generate {\n",
              "        background-color: #3B4455;\n",
              "        fill: #D2E3FC;\n",
              "      }\n",
              "\n",
              "      [theme=dark] .colab-df-generate:hover {\n",
              "        background-color: #434B5C;\n",
              "        box-shadow: 0px 1px 3px 1px rgba(0, 0, 0, 0.15);\n",
              "        filter: drop-shadow(0px 1px 2px rgba(0, 0, 0, 0.3));\n",
              "        fill: #FFFFFF;\n",
              "      }\n",
              "    </style>\n",
              "    <button class=\"colab-df-generate\" onclick=\"generateWithVariable('correlation')\"\n",
              "            title=\"Generate code using this dataframe.\"\n",
              "            style=\"display:none;\">\n",
              "\n",
              "  <svg xmlns=\"http://www.w3.org/2000/svg\" height=\"24px\"viewBox=\"0 0 24 24\"\n",
              "       width=\"24px\">\n",
              "    <path d=\"M7,19H8.4L18.45,9,17,7.55,7,17.6ZM5,21V16.75L18.45,3.32a2,2,0,0,1,2.83,0l1.4,1.43a1.91,1.91,0,0,1,.58,1.4,1.91,1.91,0,0,1-.58,1.4L9.25,21ZM18.45,9,17,7.55Zm-12,3A5.31,5.31,0,0,0,4.9,8.1,5.31,5.31,0,0,0,1,6.5,5.31,5.31,0,0,0,4.9,4.9,5.31,5.31,0,0,0,6.5,1,5.31,5.31,0,0,0,8.1,4.9,5.31,5.31,0,0,0,12,6.5,5.46,5.46,0,0,0,6.5,12Z\"/>\n",
              "  </svg>\n",
              "    </button>\n",
              "    <script>\n",
              "      (() => {\n",
              "      const buttonEl =\n",
              "        document.querySelector('#id_62ff6f92-952f-4742-aa3a-919cdf1a0924 button.colab-df-generate');\n",
              "      buttonEl.style.display =\n",
              "        google.colab.kernel.accessAllowed ? 'block' : 'none';\n",
              "\n",
              "      buttonEl.onclick = () => {\n",
              "        google.colab.notebook.generateWithVariable('correlation');\n",
              "      }\n",
              "      })();\n",
              "    </script>\n",
              "  </div>\n",
              "\n",
              "    </div>\n",
              "  </div>\n"
            ],
            "application/vnd.google.colaboratory.intrinsic+json": {
              "type": "dataframe",
              "variable_name": "correlation",
              "summary": "{\n  \"name\": \"correlation\",\n  \"rows\": 9,\n  \"fields\": [\n    {\n      \"column\": \"Order ID\",\n      \"properties\": {\n        \"dtype\": \"number\",\n        \"std\": 0.4233239709553213,\n        \"min\": -0.32894438251357117,\n        \"max\": 1.0,\n        \"num_unique_values\": 9,\n        \"samples\": [\n          0.18690735198119823,\n          -0.2229068176977236,\n          -0.32894438251357117\n        ],\n        \"semantic_type\": \"\",\n        \"description\": \"\"\n      }\n    },\n    {\n      \"column\": \"Units Sold\",\n      \"properties\": {\n        \"dtype\": \"number\",\n        \"std\": 0.39896503054682203,\n        \"min\": -0.2229068176977236,\n        \"max\": 1.0,\n        \"num_unique_values\": 9,\n        \"samples\": [\n          0.08069872587395445,\n          1.0,\n          0.37474591505574756\n        ],\n        \"semantic_type\": \"\",\n        \"description\": \"\"\n      }\n    },\n    {\n      \"column\": \"Unit Price\",\n      \"properties\": {\n        \"dtype\": \"number\",\n        \"std\": 0.5566657694246192,\n        \"min\": -0.43550394399003195,\n        \"max\": 1.0,\n        \"num_unique_values\": 9,\n        \"samples\": [\n          -0.43550394399003195,\n          -0.07048558682925854,\n          0.7879054270259372\n        ],\n        \"semantic_type\": \"\",\n        \"description\": \"\"\n      }\n    },\n    {\n      \"column\": \"Unit Cost\",\n      \"properties\": {\n        \"dtype\": \"number\",\n        \"std\": 0.5737272180893669,\n        \"min\": -0.5354807875313291,\n        \"max\": 1.0,\n        \"num_unique_values\": 9,\n        \"samples\": [\n          -0.5354807875313291,\n          -0.09223244633531223,\n          0.7748952220758182\n        ],\n        \"semantic_type\": \"\",\n        \"description\": \"\"\n      }\n    },\n    {\n      \"column\": \"Total Revenue\",\n      \"properties\": {\n        \"dtype\": \"number\",\n        \"std\": 0.5330677344986178,\n        \"min\": -0.3146876310384443,\n        \"max\": 1.0,\n        \"num_unique_values\": 9,\n        \"samples\": [\n          -0.2697311125553311,\n          0.4477844902616838,\n          0.9839276893258899\n        ],\n        \"semantic_type\": \"\",\n        \"description\": \"\"\n      }\n    },\n    {\n      \"column\": \"Total Cost\",\n      \"properties\": {\n        \"dtype\": \"number\",\n        \"std\": 0.5560606523611161,\n        \"min\": -0.3840760508399516,\n        \"max\": 1.0,\n        \"num_unique_values\": 9,\n        \"samples\": [\n          -0.3840760508399516,\n          0.37474591505574756,\n          1.0\n        ],\n        \"semantic_type\": \"\",\n        \"description\": \"\"\n      }\n    },\n    {\n      \"column\": \"Total Profit\",\n      \"properties\": {\n        \"dtype\": \"number\",\n        \"std\": 0.4295138852380307,\n        \"min\": -0.23463781418438892,\n        \"max\": 1.0,\n        \"num_unique_values\": 9,\n        \"samples\": [\n          0.05130584024423195,\n          0.5645504620845978,\n          0.8040910808150447\n        ],\n        \"semantic_type\": \"\",\n        \"description\": \"\"\n      }\n    },\n    {\n      \"column\": \"Gross Profit Margin\",\n      \"properties\": {\n        \"dtype\": \"number\",\n        \"std\": 0.46921896058095336,\n        \"min\": -0.5354807875313291,\n        \"max\": 1.0,\n        \"num_unique_values\": 9,\n        \"samples\": [\n          1.0,\n          0.08069872587395445,\n          -0.3840760508399516\n        ],\n        \"semantic_type\": \"\",\n        \"description\": \"\"\n      }\n    },\n    {\n      \"column\": \"Delivery Time\",\n      \"properties\": {\n        \"dtype\": \"number\",\n        \"std\": 0.34147054262766446,\n        \"min\": -0.0760852633407176,\n        \"max\": 1.0,\n        \"num_unique_values\": 9,\n        \"samples\": [\n          0.1523158041829645,\n          -0.05072005514017246,\n          -0.03309837517516109\n        ],\n        \"semantic_type\": \"\",\n        \"description\": \"\"\n      }\n    }\n  ]\n}"
            }
          },
          "metadata": {},
          "execution_count": 55
        }
      ]
    },
    {
      "cell_type": "markdown",
      "source": [
        "SCATTER PLOT BETWEEN UNIT PRICE AND UNIT COST"
      ],
      "metadata": {
        "id": "PK1NJfJvvRI-"
      }
    },
    {
      "cell_type": "code",
      "source": [
        "plt.figure(figsize=(8,6))\n",
        "plt.scatter(data['Unit Price'], data['Unit Cost'])\n",
        "plt.title('UNIT PRICE vs UNIT COST')\n",
        "plt.xlabel('Unit Price')\n",
        "plt.ylabel('Unit Cost')\n",
        "plt.show()"
      ],
      "metadata": {
        "colab": {
          "base_uri": "https://localhost:8080/",
          "height": 564
        },
        "id": "OgTkgj99vR0l",
        "outputId": "03174721-60d4-4331-8363-7baceed11bd5"
      },
      "execution_count": 50,
      "outputs": [
        {
          "output_type": "display_data",
          "data": {
            "text/plain": [
              "<Figure size 800x600 with 1 Axes>"
            ],
            "image/png": "[encoded data removed]"
          },
          "metadata": {}
        }
      ]
    },
    {
      "cell_type": "markdown",
      "source": [
        "\n",
        "TOTAL PROFIT OVER THE MONTHS\n"
      ],
      "metadata": {
        "id": "apfBJXmsv-8v"
      }
    },
    {
      "cell_type": "code",
      "source": [
        "plt.title(\"LINE PLOT OF VARIATION IN TOTAL PROFIT OVER THE MONTHS\")\n",
        "sns.lineplot(x=data['Month'],y=data['Total Profit'])\n",
        "plt.gca().spines['top'].set_visible(False)\n",
        "plt.gca().spines['right'].set_visible(False)\n",
        "plt.show()"
      ],
      "metadata": {
        "colab": {
          "base_uri": "https://localhost:8080/",
          "height": 487
        },
        "id": "3qo1CCrivYv3",
        "outputId": "7249d2d1-e75a-4ca7-b8b3-013c4e46a7b5"
      },
      "execution_count": 51,
      "outputs": [
        {
          "output_type": "display_data",
          "data": {
            "text/plain": [
              "<Figure size 640x480 with 1 Axes>"
            ],
            "image/png": "[encoded data removed]"
          },
          "metadata": {}
        }
      ]
    },
    {
      "cell_type": "markdown",
      "source": [
        "\n",
        "DISTRIBUTION OF UNITS SOLD\n"
      ],
      "metadata": {
        "id": "VhmpJCwJwOEJ"
      }
    },
    {
      "cell_type": "code",
      "source": [
        "plt.figure(figsize=(8,6))\n",
        "plt.hist(data['Units Sold'],bins=25,edgecolor='black',color='green')\n",
        "plt.title('Units Sold Distribution')\n",
        "plt.xlabel('Units Sold')\n",
        "plt.ylabel('Frequency')\n",
        "plt.show()"
      ],
      "metadata": {
        "colab": {
          "base_uri": "https://localhost:8080/",
          "height": 564
        },
        "id": "EIDeAE6rwMbB",
        "outputId": "bc8b4dfb-b810-418b-b2c0-cfbd43543bdf"
      },
      "execution_count": 52,
      "outputs": [
        {
          "output_type": "display_data",
          "data": {
            "text/plain": [
              "<Figure size 800x600 with 1 Axes>"
            ],
            "image/png": "[encoded data removed]"
          },
          "metadata": {}
        }
      ]
    },
    {
      "cell_type": "markdown",
      "source": [
        "\n",
        "SALES CHANNEL ANALYSIS\n"
      ],
      "metadata": {
        "id": "UUC8H-OnwWY8"
      }
    },
    {
      "cell_type": "code",
      "source": [
        "plt.title(\"COUNT OF ONLINE AND OFFLINE ORDERS\")\n",
        "sns.countplot(x='Sales Channel', data=data, color='#A73362')\n",
        "plt.gca().spines['top'].set_visible(False)\n",
        "plt.gca().spines['right'].set_visible(False)\n",
        "plt.show()\n"
      ],
      "metadata": {
        "colab": {
          "base_uri": "https://localhost:8080/",
          "height": 472
        },
        "id": "j0C1jZo_wUyp",
        "outputId": "e995a4fa-c1cd-4c12-b46f-d3c035a1086a"
      },
      "execution_count": 53,
      "outputs": [
        {
          "output_type": "display_data",
          "data": {
            "text/plain": [
              "<Figure size 640x480 with 1 Axes>"
            ],
            "image/png": "[encoded data removed]"
          },
          "metadata": {}
        }
      ]
    },
    {
      "cell_type": "markdown",
      "source": [
        "\n",
        "TOTALREVENUETHROUGHTHEYEARS\n"
      ],
      "metadata": {
        "id": "AfPMLZUcxDL2"
      }
    },
    {
      "cell_type": "code",
      "source": [
        "plt.title('TOTAL REVENUE ACCORDING TO THE YEARS')\n",
        "plt.bar(data['Year'], data['Total Revenue'],color=['maroon'])\n",
        "plt.xlabel('Years')\n",
        "plt.ylabel('Total Revenue')\n",
        "plt.gca().spines['top'].set_visible(False)\n",
        "plt.gca().spines['right'].set_visible(False)\n",
        "plt.show()"
      ],
      "metadata": {
        "colab": {
          "base_uri": "https://localhost:8080/",
          "height": 472
        },
        "id": "oUuxYmIZwifK",
        "outputId": "4e5eb596-ccb0-4e8a-a155-4dbb1cab3ca1"
      },
      "execution_count": 56,
      "outputs": [
        {
          "output_type": "display_data",
          "data": {
            "text/plain": [
              "<Figure size 640x480 with 1 Axes>"
            ],
            "image/png": "[encoded data removed]"
          },
          "metadata": {}
        }
      ]
    },
    {
      "cell_type": "markdown",
      "source": [
        "\n",
        "DISTRIBUTION OF ORDER PRIORITY\n"
      ],
      "metadata": {
        "id": "45iE1zDxxM1L"
      }
    },
    {
      "cell_type": "code",
      "source": [
        "plt.figure(figsize=(8,6))\n",
        "plt.pie(data['Order Priority'].value_counts(),labels=['H', 'L','C', 'M'],explode=[0,0,0,0],autopct='%1.1f%%', colors=['red', 'green','blue', 'yellow'], shadow=True, startangle=180, textprops={'fontsize' :15}, wedgeprops={'linewidth' :3,'width' :1, 'edgecolor' : 'k'})\n",
        "plt.title('Distribtution of different Order Priorities')\n",
        "plt.show()"
      ],
      "metadata": {
        "colab": {
          "base_uri": "https://localhost:8080/",
          "height": 521
        },
        "id": "DtFKnGfUxMVI",
        "outputId": "efcb86eb-0d60-4a71-ca32-04a127a32a76"
      },
      "execution_count": 58,
      "outputs": [
        {
          "output_type": "display_data",
          "data": {
            "text/plain": [
              "<Figure size 800x600 with 1 Axes>"
            ],
            "image/png": "[encoded data removed]"
          },
          "metadata": {}
        }
      ]
    },
    {
      "cell_type": "markdown",
      "source": [
        "REGION WISE SALES ACCORDING TO REVENUE"
      ],
      "metadata": {
        "id": "bbrWvU39xX4J"
      }
    },
    {
      "cell_type": "code",
      "source": [
        "plt.title('DIFFERENT REGION - WISE SALES ACCORDING TO TOTAL REVENUE')\n",
        "reg_sales = data.groupby('Region')['Total Revenue'].sum()\n",
        "reg_sales.plot(kind='bar')\n",
        "plt.xlabel('Region')\n",
        "plt.ylabel('Total Revenue')\n",
        "plt.gca().spines['top'].set_visible(False)\n",
        "plt.gca().spines['right'].set_visible(False)\n",
        "plt.show()"
      ],
      "metadata": {
        "colab": {
          "base_uri": "https://localhost:8080/",
          "height": 719
        },
        "id": "ijIiFM4qxYZ4",
        "outputId": "43165d11-99d4-4459-c238-26b2a5072624"
      },
      "execution_count": 59,
      "outputs": [
        {
          "output_type": "display_data",
          "data": {
            "text/plain": [
              "<Figure size 640x480 with 1 Axes>"
            ],
            "image/png": "[encoded data removed]"
          },
          "metadata": {}
        }
      ]
    }
  ]
}